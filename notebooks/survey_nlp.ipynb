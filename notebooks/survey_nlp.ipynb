{
 "cells": [
  {
   "cell_type": "code",
   "execution_count": 2,
   "metadata": {},
   "outputs": [],
   "source": [
    "import pandas as pd\n",
    "import numpy as np\n",
    "import matplotlib.pyplot as plt\n",
    "\n",
    "from sklearn.feature_extraction.text import CountVectorizer\n",
    "from sklearn.decomposition import LatentDirichletAllocation\n",
    "from sklearn.feature_extraction import text "
   ]
  },
  {
   "cell_type": "code",
   "execution_count": 3,
   "metadata": {},
   "outputs": [],
   "source": [
    "pd.set_option(\"display.max_rows\", None)\n",
    "pd.set_option(\"display.max_columns\", None)\n",
    "pd.set_option(\"display.max_colwidth\", 80)"
   ]
  },
  {
   "cell_type": "code",
   "execution_count": 4,
   "metadata": {},
   "outputs": [],
   "source": [
    "df = pd.read_csv('2019 Member Survey - Raw Data.csv', header=[0,1], low_memory=False)"
   ]
  },
  {
   "cell_type": "code",
   "execution_count": 5,
   "metadata": {},
   "outputs": [
    {
     "data": {
      "text/plain": [
       "(6172, 454)"
      ]
     },
     "execution_count": 5,
     "metadata": {},
     "output_type": "execute_result"
    }
   ],
   "source": [
    "df.shape"
   ]
  },
  {
   "cell_type": "code",
   "execution_count": 6,
   "metadata": {},
   "outputs": [
    {
     "name": "stdout",
     "output_type": "stream",
     "text": [
      "<class 'pandas.core.frame.DataFrame'>\n",
      "RangeIndex: 6172 entries, 0 to 6171\n",
      "Data columns (total 454 columns):\n",
      "(Respondent ID, Unnamed: 0_level_1)                                                                                              6172 non-null int64\n",
      "(Collector ID, Unnamed: 1_level_1)                                                                                               6172 non-null int64\n",
      "(Start Date, Unnamed: 2_level_1)                                                                                                 6172 non-null object\n",
      "(End Date, Unnamed: 3_level_1)                                                                                                   6172 non-null object\n",
      "(IP Address, Unnamed: 4_level_1)                                                                                                 6172 non-null object\n",
      "(Email Address, Unnamed: 5_level_1)                                                                                              6172 non-null object\n",
      "(First Name, Unnamed: 6_level_1)                                                                                                 6167 non-null object\n",
      "(Last Name, Unnamed: 7_level_1)                                                                                                  6146 non-null object\n",
      "(Custom Data 1, Unnamed: 8_level_1)                                                                                              6167 non-null object\n",
      "(How old are you?, Response)                                                                                                     5987 non-null object\n",
      "(To what gender do you identify?, Response)                                                                                      5987 non-null object\n",
      "(Unnamed: 11_level_0, Prefer to self describe)                                                                                   9 non-null object\n",
      "(Where do you live? , Response)                                                                                                  5987 non-null object\n",
      "(What is your living arrangement? , Response)                                                                                    5987 non-null object\n",
      "(How many bedrooms are in your home?, Response)                                                                                  5987 non-null object\n",
      "(With whom do you live? (best/closest description), Response)                                                                    5987 non-null object\n",
      "(Do you own/lease a vehicle?, Response)                                                                                          5987 non-null object\n",
      "(On which social media platforms are you active? (check all that apply), Instagram)                                              4145 non-null object\n",
      "(Unnamed: 18_level_0, Facebook)                                                                                                  3600 non-null object\n",
      "(Unnamed: 19_level_0, Twitter)                                                                                                   2589 non-null object\n",
      "(Unnamed: 20_level_0, Reddit)                                                                                                    1917 non-null object\n",
      "(Unnamed: 21_level_0, YouTube)                                                                                                   2642 non-null object\n",
      "(Unnamed: 22_level_0, Pinterest)                                                                                                 534 non-null object\n",
      "(Unnamed: 23_level_0, Snapchat)                                                                                                  1126 non-null object\n",
      "(Unnamed: 24_level_0, Tumblr)                                                                                                    288 non-null object\n",
      "(Unnamed: 25_level_0, TikTok)                                                                                                    32 non-null object\n",
      "(Unnamed: 26_level_0, Musical.ly)                                                                                                11 non-null object\n",
      "(Unnamed: 27_level_0, None of the above)                                                                                         460 non-null object\n",
      "(Which VMP social accounts do you follow?, Instagram)                                                                            2903 non-null object\n",
      "(Unnamed: 29_level_0, Facebook)                                                                                                  2096 non-null object\n",
      "(Unnamed: 30_level_0, Twitter)                                                                                                   1608 non-null object\n",
      "(Unnamed: 31_level_0, Reddit)                                                                                                    693 non-null object\n",
      "(Unnamed: 32_level_0, None of the above)                                                                                         1603 non-null object\n",
      "(How long have you been buying records?, Response)                                                                               5806 non-null object\n",
      "(About how many records do you own? (numbers only, ok to estimate), Open-Ended Response)                                         5806 non-null float64\n",
      "(Why did you start buying vinyl originally?, Open-Ended Response)                                                                5805 non-null object\n",
      "(About how many records do you buy per month?, Response)                                                                         5806 non-null object\n",
      "(Have you ever inherited/been gifted a friend or family member's record collection?, No)                                         2680 non-null object\n",
      "(Unnamed: 38_level_0, Yes, a parent)                                                                                             1978 non-null object\n",
      "(Unnamed: 39_level_0, Yes, a sibling)                                                                                            156 non-null object\n",
      "(Unnamed: 40_level_0, Yes, a grandparent)                                                                                        518 non-null object\n",
      "(Unnamed: 41_level_0, Yes, a friend)                                                                                             830 non-null object\n",
      "(Unnamed: 42_level_0, Yes, other)                                                                                                659 non-null object\n",
      "(How often do you buy records from these places?, At a store, used)                                                              5806 non-null object\n",
      "(Unnamed: 44_level_0, At a store, new)                                                                                           5806 non-null object\n",
      "(Unnamed: 45_level_0, Amazon)                                                                                                    5806 non-null object\n",
      "(Unnamed: 46_level_0, Other specialty online store, like Newbury Comics, Rough Trade or Insound)                                 5806 non-null object\n",
      "(Unnamed: 47_level_0, Discogs)                                                                                                   5806 non-null object\n",
      "(Unnamed: 48_level_0, Used other)                                                                                                5806 non-null object\n",
      "(Unnamed: 49_level_0, Vinyl Me, Please)                                                                                          5806 non-null object\n",
      "(Unnamed: 50_level_0, Direct from the artist or label)                                                                           5806 non-null object\n",
      "(Unnamed: 51_level_0, Urban Outfitters)                                                                                          5806 non-null object\n",
      "(Unnamed: 52_level_0, Flea market)                                                                                               5806 non-null object\n",
      "(Unnamed: 53_level_0, eBay)                                                                                                      5806 non-null object\n",
      "(Unnamed: 54_level_0, Estate/garage sale)                                                                                        5806 non-null object\n",
      "(Do you use Discogs?, Response)                                                                                                  5806 non-null object\n",
      "(How do you use Discogs? (check all that apply), I buy records on Discogs)                                                       2867 non-null object\n",
      "(Unnamed: 57_level_0, I sell records on Discogs)                                                                                 652 non-null object\n",
      "(Unnamed: 58_level_0, I have a wantlist on Discogs)                                                                              2610 non-null object\n",
      "(Unnamed: 59_level_0, I have my collection on Discogs)                                                                           2831 non-null object\n",
      "(Unnamed: 60_level_0, I check Discogs prices while shopping for records at the store or elsewhere)                               2955 non-null object\n",
      "(How frequently do you use Discogs?, Response)                                                                                   4156 non-null object\n",
      "(How much money do you spend per month on music—shows, streaming, vinyl, merch, etc.?, Open-Ended Response)                      5772 non-null float64\n",
      "(How much do you agree with these statements?, I consider myself a collector of things other than vinyl.)                        5668 non-null object\n",
      "(Unnamed: 64_level_0, I usually listen to records alone.)                                                                        5668 non-null object\n",
      "(Unnamed: 65_level_0, I work in the music industry.)                                                                             5668 non-null object\n",
      "(Unnamed: 66_level_0, When I purchase new vinyl, I always listen to it immediately (as soon as I can).)                          5668 non-null object\n",
      "(Unnamed: 67_level_0, My record collection is an important conversation starter when people visit my home.)                      5668 non-null object\n",
      "(Unnamed: 68_level_0, The quality of the vinyl package is more important than the music.)                                        5668 non-null object\n",
      "(Unnamed: 69_level_0, I assume that I’ll sell my vinyl collection one day.)                                                      5668 non-null object\n",
      "(Unnamed: 70_level_0, I love teaching people about vinyl.)                                                                       5668 non-null object\n",
      "(Unnamed: 71_level_0, Most of my friends also collect vinyl.)                                                                    5668 non-null object\n",
      "(Unnamed: 72_level_0, I prefer buying new records over used records.)                                                            5668 non-null object\n",
      "(Unnamed: 73_level_0, I usually listen to my VMP Records of the Month many times.)                                               5668 non-null object\n",
      "(Unnamed: 74_level_0, I listen to records only on the weekends.)                                                                 5668 non-null object\n",
      "(Unnamed: 75_level_0, I listen to vinyl at home more often than I stream music at home.)                                         5668 non-null object\n",
      "(Unnamed: 76_level_0, It’s important to me that my vinyl collection is in the center of my home.)                                5668 non-null object\n",
      "(Unnamed: 77_level_0, I have a room in my home dedicated to vinyl listening.)                                                    5668 non-null object\n",
      "(Unnamed: 78_level_0, I consider my vinyl collection as part of the main aesthetic of my home.)                                  5668 non-null object\n",
      "(Unnamed: 79_level_0, I prefer to stream an album before I choose to buy it on vinyl.)                                           5668 non-null object\n",
      "(Unnamed: 80_level_0, My home design (furniture, art, etc.) is important to me.)                                                 5668 non-null object\n",
      "(Unnamed: 81_level_0, It’s important to me that the records I buy are limited/exclusive.)                                        5668 non-null object\n",
      "(Unnamed: 82_level_0, I often will resell or “flip” my records.)                                                                 5668 non-null object\n",
      "(What do you enjoy doing most when listening to records?, Open-Ended Response)                                                   5471 non-null object\n",
      "(How often do you listen to your record collection?, Response)                                                                   5562 non-null object\n",
      "(How many functional turntables do you have in your home?, Response)                                                             5562 non-null object\n",
      "(What’s your main vinyl listening setup?, Response)                                                                              5562 non-null object\n",
      "(Unnamed: 87_level_0, Other (please specify))                                                                                    683 non-null object\n",
      "(Which is true regarding your primary turntable?, Response)                                                                      5562 non-null object\n",
      "(Where did you purchase your primary turntable?, Response)                                                                       4555 non-null object\n",
      "(Unnamed: 90_level_0, Other (please specify))                                                                                    797 non-null object\n",
      "(How much did you spend on your current (primary) vinyl setup?, Open-Ended Response)                                             5513 non-null float64\n",
      "(What percent of your home music listening is vinyl (vs. streaming/MP3s, CDs, etc), Open-Ended Response)                         5537 non-null float64\n",
      "(What is the MAXIMUM quantity (total pressed) at which a release still feels limited or exclusive?, Response)                    5537 non-null object\n",
      "(Why did you originally sign up for VMP?, Open-Ended Response)                                                                   5417 non-null object\n",
      "(How did you first hear about Vinyl Me, Please?, Response)                                                                       5417 non-null object\n",
      "(Unnamed: 96_level_0, Other (please specify))                                                                                    492 non-null object\n",
      "(What has been your MOST played VMP record in the past 12 months?, Open-Ended Response)                                          5329 non-null object\n",
      "(What has been your LEAST played VMP record in the past 12 months?, Open-Ended Response)                                         5043 non-null object\n",
      "(How much do you agree with these statements?, I buy records online more often since becoming a VMP member)                      5417 non-null object\n",
      "(Unnamed: 100_level_0, I visit my record store more often since becoming a VMP member)                                           5417 non-null object\n",
      "(Unnamed: 101_level_0, I’ve discovered new artists thanks to VMP)                                                                5417 non-null object\n",
      "(Unnamed: 102_level_0, I attend more concerts thanks to VMP)                                                                     5417 non-null object\n",
      "(Unnamed: 103_level_0, I wish I received exclusive VMP shipments more frequently (more than once a month))                       5417 non-null object\n",
      "(Unnamed: 104_level_0, If I could pay $10 extra to receive my VMP shipments FASTER, then I would)                                5417 non-null object\n",
      "(What is your preferred shipping method?, Response)                                                                              5417 non-null object\n",
      "(Unnamed: 106_level_0, Other (please specify))                                                                                   158 non-null object\n",
      "(How would you feel if we sent you a free vinyl record sponsored by a brand?, Response)                                          5417 non-null object\n",
      "(I would like to see more of this from VMP... (check all that apply), Books)                                                     1246 non-null object\n",
      "(Unnamed: 109_level_0, VMP merch)                                                                                                845 non-null object\n",
      "(Unnamed: 110_level_0, Band/artist merch)                                                                                        2023 non-null object\n",
      "(Unnamed: 111_level_0, Concert ticket offerings)                                                                                 1585 non-null object\n",
      "(Unnamed: 112_level_0, Events)                                                                                                   836 non-null object\n",
      "(Unnamed: 113_level_0, Posters)                                                                                                  1527 non-null object\n",
      "(Unnamed: 114_level_0, Gear)                                                                                                     932 non-null object\n",
      "(Unnamed: 115_level_0, How the records are made)                                                                                 1910 non-null object\n",
      "(Unnamed: 116_level_0, Box sets)                                                                                                 2502 non-null object\n",
      "(Unnamed: 117_level_0, New release records)                                                                                      3206 non-null object\n",
      "(Unnamed: 118_level_0, Classic records)                                                                                          3647 non-null object\n",
      "(Unnamed: 119_level_0, 45s)                                                                                                      1456 non-null object\n",
      "(Unnamed: 120_level_0, Other (please specify))                                                                                   427 non-null object\n",
      "(Do other people in your household regularly listen to records with you?, Response)                                              5414 non-null object\n",
      "(How likely is it that you would recommend this company to a friend or colleague?, Response)                                     5353 non-null float64\n",
      "(My favorite thing about Vinyl Me, Please is..., Open-Ended Response)                                                            5366 non-null object\n",
      "(My LEAST favorite thing about Vinyl Me, Please is..., Open-Ended Response)                                                      5244 non-null object\n",
      "(How satisfied are you with the following?, Record of the Month (selection, package quality))                                    5307 non-null object\n",
      "(Unnamed: 126_level_0, Add-on subscriptions (VMP Classics, VMP Rap & Hip-Hop))                                                   4740 non-null object\n",
      "(Unnamed: 127_level_0, Discovery (VMP Rising, On Rotation))                                                                      4741 non-null object\n",
      "(Unnamed: 128_level_0, VMP Store (selection, price, shopping experience))                                                        5219 non-null object\n",
      "(Unnamed: 129_level_0, Content (The Magazine, podcast, The Standard))                                                            4616 non-null object\n",
      "(Unnamed: 130_level_0, Customer Service (response time, resolution of your issue))                                               4318 non-null object\n",
      "(Unnamed: 131_level_0, Shipping speed (how quickly you receive your shipments))                                                  5307 non-null object\n",
      "(Unnamed: 132_level_0, Shipping service (package condition, order accuracy, tracking))                                           5284 non-null object\n",
      "(How often do you use/interact with the following Vinyl Me, Please elements?, Rising)                                            5253 non-null object\n",
      "(Unnamed: 134_level_0, Spotify playlists)                                                                                        5267 non-null object\n",
      "(Unnamed: 135_level_0, The Spins)                                                                                                5212 non-null object\n",
      "(Unnamed: 136_level_0, The Standard)                                                                                             5261 non-null object\n",
      "(Unnamed: 137_level_0, The online magazine)                                                                                      5253 non-null object\n",
      "(Unnamed: 138_level_0, VMP store exclusives)                                                                                     5254 non-null object\n",
      "(Unnamed: 139_level_0, Essentials Record of the Month)                                                                           5269 non-null object\n",
      "(Unnamed: 140_level_0, Essentials cocktail recipe)                                                                               5271 non-null object\n",
      "(Unnamed: 141_level_0, Essentials art print)                                                                                     5255 non-null object\n",
      "(Unnamed: 142_level_0, Rap & Hip Hop Record of the Month)                                                                        5259 non-null object\n",
      "(Unnamed: 143_level_0, Rap & Hip Hop art stencil)                                                                                5260 non-null object\n",
      "(Unnamed: 144_level_0, Classics Record of the Month)                                                                             5268 non-null object\n",
      "(Unnamed: 145_level_0, Classics listening notes booklet)                                                                         5270 non-null object\n",
      "(Where do you discover/learn about new artists?, Friends)                                                                        5256 non-null object\n",
      "(Unnamed: 147_level_0, Radio)                                                                                                    5256 non-null object\n",
      "(Unnamed: 148_level_0, NPR)                                                                                                      5256 non-null object\n",
      "(Unnamed: 149_level_0, Playlists on streaming services (like Spotify))                                                           5256 non-null object\n",
      "(Unnamed: 150_level_0, Vinyl Me, Please)                                                                                         5256 non-null object\n",
      "(Unnamed: 151_level_0, Pitchfork)                                                                                                5256 non-null object\n",
      "(Unnamed: 152_level_0, YouTube)                                                                                                  5256 non-null object\n",
      "(Unnamed: 153_level_0, Instagram/Facebook)                                                                                       5256 non-null object\n",
      "(Unnamed: 154_level_0, Other music blogs)                                                                                        5256 non-null object\n",
      "(Unnamed: 155_level_0, Music magazines)                                                                                          5256 non-null object\n",
      "(Unnamed: 156_level_0, Live shows)                                                                                               5256 non-null object\n",
      "(Unnamed: 157_level_0, Record store clerk)                                                                                       5256 non-null object\n",
      "(Do you subscribe to a paid digital streaming service?, Response)                                                                5256 non-null object\n",
      "(Which one/s? (select all that apply), Spotify Premium)                                                                          2783 non-null object\n",
      "(Unnamed: 160_level_0, Apple Music)                                                                                              1105 non-null object\n",
      "(Unnamed: 161_level_0, Deezer)                                                                                                   25 non-null object\n",
      "(Unnamed: 162_level_0, Google Play)                                                                                              326 non-null object\n",
      "(Unnamed: 163_level_0, YouTube Music)                                                                                            239 non-null object\n",
      "(Unnamed: 164_level_0, Soundcloud Go)                                                                                            69 non-null object\n",
      "(Unnamed: 165_level_0, Pandora Plus)                                                                                             178 non-null object\n",
      "(Unnamed: 166_level_0, Sirius/XM)                                                                                                465 non-null object\n",
      "(Unnamed: 167_level_0, iHeartRadio)                                                                                              37 non-null object\n",
      "(Unnamed: 168_level_0, Amazon Music)                                                                                             941 non-null object\n",
      "(Unnamed: 169_level_0, Tidal)                                                                                                    245 non-null object\n",
      "(Unnamed: 170_level_0, Other (please specify))                                                                                   87 non-null object\n",
      "(How often do you use any of the following free services?, Soundcloud (free))                                                    5201 non-null object\n",
      "(Unnamed: 172_level_0, YouTube)                                                                                                  5234 non-null object\n",
      "(Unnamed: 173_level_0, Bandcamp)                                                                                                 5199 non-null object\n",
      "(Unnamed: 174_level_0, Mixcloud)                                                                                                 5180 non-null object\n",
      "(Unnamed: 175_level_0, Terrestrial Radio)                                                                                        5182 non-null object\n",
      "(Unnamed: 176_level_0, Internet radio like TuneIn)                                                                               5184 non-null object\n",
      "(Unnamed: 177_level_0, Spotify (free))                                                                                           5188 non-null object\n",
      "(Unnamed: 178_level_0, Pandora (free))                                                                                           5192 non-null object\n",
      "(On average, how many hours a day do you stream music? (numbers only, decimals are ok), Open-Ended Response)                     5240 non-null float64\n",
      "(How much do you agree with these statements?, It’s important that my friends and significant other share my taste in music.)    5151 non-null object\n",
      "(Unnamed: 181_level_0, I am always up-to-date on music trends.)                                                                  5151 non-null object\n",
      "(Unnamed: 182_level_0, Curated playlists (by Spotify, Apple Music, etc.) are an important source of music discovery for me.)     5151 non-null object\n",
      "(Unnamed: 183_level_0, Music is best enjoyed live.)                                                                              5151 non-null object\n",
      "(Unnamed: 184_level_0, When it comes to my favorite artists, I’m an expert and know everything there is to know about them.)     5151 non-null object\n",
      "(Unnamed: 185_level_0, When it comes to music, I will listen to just about anything.)                                            5151 non-null object\n",
      "(Unnamed: 186_level_0, When it comes to music, I just know what I like.)                                                         5151 non-null object\n",
      "(Unnamed: 187_level_0, Going to live shows is an important part of my social life.)                                              5151 non-null object\n",
      "(Unnamed: 188_level_0, I often go to shows without having heard of the artist ahead of time.)                                    5151 non-null object\n",
      "(Unnamed: 189_level_0, Knowing an artist’s life story is important to me.)                                                       5151 non-null object\n",
      "(Unnamed: 190_level_0, I mostly listen to the same music I did in high school/college.)                                          5151 non-null object\n",
      "(Unnamed: 191_level_0, When I listen to music alone, I’m usually doing something else like driving, working, or cleaning.)       5151 non-null object\n",
      "(Unnamed: 192_level_0, I spend a lot of time reading, researching, and learning about my favorite artists and genres.)           5151 non-null object\n",
      "(Unnamed: 193_level_0, Most of my friends also collect vinyl.)                                                                   5151 non-null object\n",
      "(Unnamed: 194_level_0, I am always listening to and creating new playlists.)                                                     5151 non-null object\n",
      "(Unnamed: 195_level_0, When hearing new music, I know right away whether or not I like it.)                                      5151 non-null object\n",
      "(Unnamed: 196_level_0, My favorite records are prominently displayed in my home.)                                                5151 non-null object\n",
      "(Unnamed: 197_level_0, Streaming services are bad for the music industry.)                                                       5151 non-null object\n",
      "(Unnamed: 198_level_0, Nobody is making good music anymore.)                                                                     5151 non-null object\n",
      "(Unnamed: 199_level_0, I check my favorite music blogs/publications every day.)                                                  5151 non-null object\n",
      "(Unnamed: 200_level_0, Most of my friends are into the same bands/artists as I am.)                                              5151 non-null object\n",
      "(Unnamed: 201_level_0, I’d see concerts I like at multiple stops on a tour if possible.)                                         5151 non-null object\n",
      "(Unnamed: 202_level_0, I frequently buy merch at concerts.)                                                                      5151 non-null object\n",
      "(Unnamed: 203_level_0, I prefer music festivals to small venues.)                                                                5151 non-null object\n",
      "(Unnamed: 204_level_0, I go to concerts early to make sure I don’t miss opening bands.)                                          5151 non-null object\n",
      "(Unnamed: 205_level_0, I like to look up the lyrics to songs I love.)                                                            5151 non-null object\n",
      "(Unnamed: 206_level_0, My taste in music is constantly evolving.)                                                                5151 non-null object\n",
      "(Unnamed: 207_level_0, I buy everything that my favorite artists release.)                                                       5151 non-null object\n",
      "(Unnamed: 208_level_0, I will often purchase a record solely because of the way it looks (ie. cover art, package details).)      5151 non-null object\n",
      "(Unnamed: 209_level_0, I go to specific restaurants/bars/coffee shops because of the music they play.)                           5151 non-null object\n",
      "(Unnamed: 210_level_0, I read reviews to learn about music I might like before I’ve heard it)                                    5151 non-null object\n",
      "(Unnamed: 211_level_0, Music keeps getting better every year.)                                                                   5151 non-null object\n",
      "(Unnamed: 212_level_0, I pay attention to who wrote the songs in addition to who sang it.)                                       5151 non-null object\n",
      "(Unnamed: 213_level_0, I read the notes and look at all the art inside albums I own.)                                            5151 non-null object\n",
      "(Unnamed: 214_level_0, I have to hear an album before I’d ever purchase it.)                                                     5151 non-null object\n",
      "(Unnamed: 215_level_0, I love engaging with people in conversations about music.)                                                5151 non-null object\n",
      "(Unnamed: 216_level_0, Streaming services are good for the music industry.)                                                      5151 non-null object\n",
      "(How often do you go to concerts?, Response)                                                                                     5099 non-null object\n",
      "(Where do you buy concert tickets? (rank in order of likelihood), Directly from the artist)                                      4319 non-null float64\n",
      "(Unnamed: 219_level_0, At the venue)                                                                                             4399 non-null float64\n",
      "(Unnamed: 220_level_0, From online ticket sales (Ticketmaster, Live nation, etc))                                                4708 non-null float64\n",
      "(Unnamed: 221_level_0, From a third party)                                                                                       4145 non-null float64\n",
      "(How often do you buy music directly from an artist (e.g. from their website or their concert), Response)                        5099 non-null object\n",
      "(How often do you buy artist or band merch?, Response)                                                                           5099 non-null object\n",
      "(How many music festivals do you attend per year?, Response)                                                                     5099 non-null object\n",
      "(About how many music related books do you own?, Open-Ended Response)                                                            5099 non-null float64\n",
      "(How often do you listen to podcasts?, Response)                                                                                 5099 non-null object\n",
      "(How many music podcasts do you listen to?, Response)                                                                            5099 non-null object\n",
      "(Select your three favorite genres., Alternative Rock)                                                                           1759 non-null object\n",
      "(Unnamed: 229_level_0, Ambient)                                                                                                  162 non-null object\n",
      "(Unnamed: 230_level_0, Ballad)                                                                                                   13 non-null object\n",
      "(Unnamed: 231_level_0, Blues)                                                                                                    410 non-null object\n",
      "(Unnamed: 232_level_0, Classic Rock)                                                                                             940 non-null object\n",
      "(Unnamed: 233_level_0, Classical)                                                                                                127 non-null object\n",
      "(Unnamed: 234_level_0, Country)                                                                                                  174 non-null object\n",
      "(Unnamed: 235_level_0, Disco)                                                                                                    61 non-null object\n",
      "(Unnamed: 236_level_0, Downtempo)                                                                                                110 non-null object\n",
      "(Unnamed: 237_level_0, Electronic)                                                                                               703 non-null object\n",
      "(Unnamed: 238_level_0, Experimental)                                                                                             307 non-null object\n",
      "(Unnamed: 239_level_0, Folk)                                                                                                     569 non-null object\n",
      "(Unnamed: 240_level_0, Funk)                                                                                                     332 non-null object\n",
      "(Unnamed: 241_level_0, Hard Rock)                                                                                                206 non-null object\n",
      "(Unnamed: 242_level_0, Hardcore)                                                                                                 100 non-null object\n",
      "(Unnamed: 243_level_0, Heavy Metal)                                                                                              293 non-null object\n",
      "(Unnamed: 244_level_0, Hip Hop)                                                                                                  1543 non-null object\n",
      "(Unnamed: 245_level_0, House)                                                                                                    87 non-null object\n",
      "(Unnamed: 246_level_0, Indie Rock)                                                                                               1951 non-null object\n",
      "(Unnamed: 247_level_0, Jazz)                                                                                                     1099 non-null object\n",
      "(Unnamed: 248_level_0, Latin)                                                                                                    30 non-null object\n",
      "(Unnamed: 249_level_0, Noise)                                                                                                    54 non-null object\n",
      "(Unnamed: 250_level_0, Pop)                                                                                                      284 non-null object\n",
      "(Unnamed: 251_level_0, Prog Rock)                                                                                                237 non-null object\n",
      "(Unnamed: 252_level_0, Psychedelic Rock)                                                                                         560 non-null object\n",
      "(Unnamed: 253_level_0, Punk)                                                                                                     530 non-null object\n",
      "(Unnamed: 254_level_0, Rap)                                                                                                      483 non-null object\n",
      "(Unnamed: 255_level_0, Reggae)                                                                                                   178 non-null object\n",
      "(Unnamed: 256_level_0, Rock & Roll)                                                                                              667 non-null object\n",
      "(Unnamed: 257_level_0, Soul)                                                                                                     694 non-null object\n",
      "(Unnamed: 258_level_0, Soundtracks)                                                                                              131 non-null object\n",
      "(Unnamed: 259_level_0, Synth-pop)                                                                                                261 non-null object\n",
      "(Unnamed: 260_level_0, Techno)                                                                                                   49 non-null object\n",
      "(Unnamed: 261_level_0, Trance)                                                                                                   20 non-null object\n",
      "(Unnamed: 262_level_0, Vocal)                                                                                                    34 non-null object\n",
      "(Unnamed: 263_level_0, World)                                                                                                    94 non-null object\n",
      "(Select your three LEAST favorite genres., Alternative Rock)                                                                     81 non-null object\n",
      "(Unnamed: 265_level_0, Ambient)                                                                                                  386 non-null object\n",
      "(Unnamed: 266_level_0, Ballad)                                                                                                   630 non-null object\n",
      "(Unnamed: 267_level_0, Blues)                                                                                                    115 non-null object\n",
      "(Unnamed: 268_level_0, Classic Rock)                                                                                             120 non-null object\n",
      "(Unnamed: 269_level_0, Classical)                                                                                                367 non-null object\n",
      "(Unnamed: 270_level_0, Country)                                                                                                  1948 non-null object\n",
      "(Unnamed: 271_level_0, Disco)                                                                                                    680 non-null object\n",
      "(Unnamed: 272_level_0, Downtempo)                                                                                                115 non-null object\n",
      "(Unnamed: 273_level_0, Electronic)                                                                                               392 non-null object\n",
      "(Unnamed: 274_level_0, Experimental)                                                                                             335 non-null object\n",
      "(Unnamed: 275_level_0, Folk)                                                                                                     342 non-null object\n",
      "(Unnamed: 276_level_0, Funk)                                                                                                     54 non-null object\n",
      "(Unnamed: 277_level_0, Hard Rock)                                                                                                155 non-null object\n",
      "(Unnamed: 278_level_0, Hardcore)                                                                                                 936 non-null object\n",
      "(Unnamed: 279_level_0, Heavy Metal)                                                                                              1132 non-null object\n",
      "(Unnamed: 280_level_0, Hip Hop)                                                                                                  279 non-null object\n",
      "(Unnamed: 281_level_0, House)                                                                                                    531 non-null object\n",
      "(Unnamed: 282_level_0, Indie Rock)                                                                                               68 non-null object\n",
      "(Unnamed: 283_level_0, Jazz)                                                                                                     126 non-null object\n",
      "(Unnamed: 284_level_0, Latin)                                                                                                    461 non-null object\n",
      "(Unnamed: 285_level_0, Noise)                                                                                                    1113 non-null object\n",
      "(Unnamed: 286_level_0, Pop)                                                                                                      381 non-null object\n",
      "(Unnamed: 287_level_0, Prog Rock)                                                                                                210 non-null object\n",
      "(Unnamed: 288_level_0, Psychedelic Rock)                                                                                         90 non-null object\n",
      "(Unnamed: 289_level_0, Punk)                                                                                                     127 non-null object\n",
      "(Unnamed: 290_level_0, Rap)                                                                                                      423 non-null object\n",
      "(Unnamed: 291_level_0, Reggae)                                                                                                   386 non-null object\n",
      "(Unnamed: 292_level_0, Rock & Roll)                                                                                              20 non-null object\n",
      "(Unnamed: 293_level_0, Soul)                                                                                                     34 non-null object\n",
      "(Unnamed: 294_level_0, Soundtracks)                                                                                              236 non-null object\n",
      "(Unnamed: 295_level_0, Synth-pop)                                                                                                293 non-null object\n",
      "(Unnamed: 296_level_0, Techno)                                                                                                   860 non-null object\n",
      "(Unnamed: 297_level_0, Trance)                                                                                                   1129 non-null object\n",
      "(Unnamed: 298_level_0, Vocal)                                                                                                    298 non-null object\n",
      "(Unnamed: 299_level_0, World)                                                                                                    399 non-null object\n",
      "(What other hobbies do you spend money on monthly? (select all that apply), Playing music)                                       1572 non-null object\n",
      "(Unnamed: 301_level_0, Sports league)                                                                                            660 non-null object\n",
      "(Unnamed: 302_level_0, A gym/fitness membership)                                                                                 1749 non-null object\n",
      "(Unnamed: 303_level_0, Magazine subscriptions)                                                                                   866 non-null object\n",
      "(Unnamed: 304_level_0, Books)                                                                                                    2634 non-null object\n",
      "(Unnamed: 305_level_0, Gaming)                                                                                                   1908 non-null object\n",
      "(Unnamed: 306_level_0, Creating art/photography)                                                                                 1250 non-null object\n",
      "(Unnamed: 307_level_0, None)                                                                                                     297 non-null object\n",
      "(Unnamed: 308_level_0, Other (please specify))                                                                                   802 non-null object\n",
      "(Which other services or clubs do you subscribe to? (select all that apply), Fashion/clothing/styling boxes)                     356 non-null object\n",
      "(Unnamed: 310_level_0, Shave club)                                                                                               451 non-null object\n",
      "(Unnamed: 311_level_0, Personal care products)                                                                                   255 non-null object\n",
      "(Unnamed: 312_level_0, Wine and/or spirit)                                                                                       438 non-null object\n",
      "(Unnamed: 313_level_0, Coffee subscription)                                                                                      313 non-null object\n",
      "(Unnamed: 314_level_0, Book club)                                                                                                188 non-null object\n",
      "(Unnamed: 315_level_0, Artist fan club)                                                                                          295 non-null object\n",
      "(Unnamed: 316_level_0, Home cooking, such as Blue Apron or Hello Fresh)                                                          340 non-null object\n",
      "(Unnamed: 317_level_0, Pet food/toy subscription)                                                                                267 non-null object\n",
      "(Unnamed: 318_level_0, None)                                                                                                     3017 non-null object\n",
      "(Unnamed: 319_level_0, Other (please specify))                                                                                   272 non-null object\n",
      "(Do you collect things other than vinyl? (select all that apply), Sneakers / streetwear)                                         466 non-null object\n",
      "(Unnamed: 321_level_0, Comic books)                                                                                              692 non-null object\n",
      "(Unnamed: 322_level_0, Collectible toys)                                                                                         582 non-null object\n",
      "(Unnamed: 323_level_0, Books)                                                                                                    1753 non-null object\n",
      "(Unnamed: 324_level_0, Sports memorabilia)                                                                                       375 non-null object\n",
      "(Unnamed: 325_level_0, Art)                                                                                                      1329 non-null object\n",
      "(Unnamed: 326_level_0, Concert posters)                                                                                          988 non-null object\n",
      "(Unnamed: 327_level_0, Merch / t-shirts)                                                                                         1170 non-null object\n",
      "(Unnamed: 328_level_0, None)                                                                                                     1389 non-null object\n",
      "(Unnamed: 329_level_0, Other (please specify))                                                                                   729 non-null object\n",
      "(What sports do you follow? (check all that apply), Major League Baseball)                                                       1600 non-null object\n",
      "(Unnamed: 331_level_0, NBA)                                                                                                      1464 non-null object\n",
      "(Unnamed: 332_level_0, NFL)                                                                                                      1854 non-null object\n",
      "(Unnamed: 333_level_0, NHL)                                                                                                      987 non-null object\n",
      "(Unnamed: 334_level_0, Nascar)                                                                                                   60 non-null object\n",
      "(Unnamed: 335_level_0, E-Sports)                                                                                                 220 non-null object\n",
      "(Unnamed: 336_level_0, Golf)                                                                                                     364 non-null object\n",
      "(Unnamed: 337_level_0, Tennis)                                                                                                   344 non-null object\n",
      "(Unnamed: 338_level_0, Soccer)                                                                                                   1148 non-null object\n",
      "(Unnamed: 339_level_0, College basketball)                                                                                       847 non-null object\n",
      "(Unnamed: 340_level_0, College football)                                                                                         964 non-null object\n",
      "(Unnamed: 341_level_0, None)                                                                                                     1443 non-null object\n",
      "(Unnamed: 342_level_0, Other (please specify))                                                                                   465 non-null object\n",
      "(What are your three favorite clothing brands?, Brand 1)                                                                         4640 non-null object\n",
      "(Unnamed: 344_level_0, Brand 2)                                                                                                  4408 non-null object\n",
      "(Unnamed: 345_level_0, Brand 3)                                                                                                  4208 non-null object\n",
      "(What are your three favorite music brands?, Brand 1)                                                                            4542 non-null object\n",
      "(Unnamed: 347_level_0, Brand 2)                                                                                                  4105 non-null object\n",
      "(Unnamed: 348_level_0, Brand 3)                                                                                                  3966 non-null object\n",
      "(What are three non-clothing brands you follow, respect, and buy from?, Brand 1)                                                 4103 non-null object\n",
      "(Unnamed: 350_level_0, Brand 2)                                                                                                  3752 non-null object\n",
      "(Unnamed: 351_level_0, Brand 3)                                                                                                  3585 non-null object\n",
      "(Do you drink alcohol?, Response)                                                                                                4915 non-null object\n",
      "(How often do you drink?, Response)                                                                                              4266 non-null object\n",
      "(Rank these beverages in order of your preference (favorite at the top), Beer)                                                   4221 non-null float64\n",
      "(Unnamed: 355_level_0, Wine)                                                                                                     4186 non-null float64\n",
      "(Unnamed: 356_level_0, Straight liquor / rocks)                                                                                  4171 non-null float64\n",
      "(Unnamed: 357_level_0, Cocktails)                                                                                                4169 non-null float64\n",
      "(Rank these types of beer in order of your preference (favorite at the top), Light beer or standard big brand)                   3558 non-null float64\n",
      "(Unnamed: 359_level_0, Domestic)                                                                                                 3742 non-null float64\n",
      "(Unnamed: 360_level_0, Craft beer)                                                                                               3961 non-null float64\n",
      "(Unnamed: 361_level_0, Seasonal)                                                                                                 3812 non-null float64\n",
      "(What kinds of spirits do you drink? , Scotch)                                                                                   2098 non-null object\n",
      "(Unnamed: 363_level_0, Irish Whiskey)                                                                                            1847 non-null object\n",
      "(Unnamed: 364_level_0, American Whiskey (bourbon, rye))                                                                          2884 non-null object\n",
      "(Unnamed: 365_level_0, Vodka)                                                                                                    1955 non-null object\n",
      "(Unnamed: 366_level_0, Tequila)                                                                                                  1870 non-null object\n",
      "(Unnamed: 367_level_0, Mezcal)                                                                                                   928 non-null object\n",
      "(Unnamed: 368_level_0, Gin)                                                                                                      2144 non-null object\n",
      "(Unnamed: 369_level_0, Rum)                                                                                                      1792 non-null object\n",
      "(Unnamed: 370_level_0, Liqueur)                                                                                                  762 non-null object\n",
      "(Unnamed: 371_level_0, None)                                                                                                     175 non-null object\n",
      "(Do you drink at home?, Response)                                                                                                4257 non-null object\n",
      "(Do you make cocktails at home?, Response)                                                                                       4256 non-null object\n",
      "(How often do you go to bars?, Response)                                                                                         4263 non-null object\n",
      "(Tell us about your marijuana use (we live in Colorado, don’t worry), Response)                                                  4270 non-null object\n",
      "(Rank marijuana use in order of preference., Smoking)                                                                            1667 non-null float64\n",
      "(Unnamed: 377_level_0, Vaping)                                                                                                   1484 non-null float64\n",
      "(Unnamed: 378_level_0, Edibles/ingestibles)                                                                                      1613 non-null float64\n",
      "(Unnamed: 379_level_0, Other)                                                                                                    1019 non-null float64\n",
      "(Unnamed: 380_level_0, CBD only)                                                                                                 1234 non-null float64\n",
      "(How often do you use marijuana or CBD?, Response)                                                                               1854 non-null object\n",
      "(What other beverages do you drink? (check all that apply), Coffee)                                                              3533 non-null object\n",
      "(Unnamed: 383_level_0, Cold brew)                                                                                                1595 non-null object\n",
      "(Unnamed: 384_level_0, Tea)                                                                                                      2886 non-null object\n",
      "(Unnamed: 385_level_0, Soda)                                                                                                     1582 non-null object\n",
      "(Unnamed: 386_level_0, Energy drink)                                                                                             670 non-null object\n",
      "(Unnamed: 387_level_0, Kombucha)                                                                                                 911 non-null object\n",
      "(Unnamed: 388_level_0, Macha)                                                                                                    390 non-null object\n",
      "(Unnamed: 389_level_0, Pressed juice)                                                                                            1016 non-null object\n",
      "(Unnamed: 390_level_0, Sparkling water / club soda)                                                                              2124 non-null object\n",
      "(Unnamed: 391_level_0, None of these)                                                                                            58 non-null object\n",
      "(Where do you buy your furniture? (check all that apply), Etsy)                                                                  344 non-null object\n",
      "(Unnamed: 393_level_0, Craigslist or similar)                                                                                    820 non-null object\n",
      "(Unnamed: 394_level_0, Second hand store)                                                                                        1258 non-null object\n",
      "(Unnamed: 395_level_0, IKEA)                                                                                                     2586 non-null object\n",
      "(Unnamed: 396_level_0, Specialty store like West Elm, CB2, Design Within Reach, Room & Board, etc.)                              1764 non-null object\n",
      "(Unnamed: 397_level_0, Big chain or department store like Wal Mart, Target, Bed Bath & Beyond)                                   1461 non-null object\n",
      "(Unnamed: 398_level_0, Online)                                                                                                   1687 non-null object\n",
      "(Unnamed: 399_level_0, Vintage store)                                                                                            1388 non-null object\n",
      "(Unnamed: 400_level_0, None of these)                                                                                            406 non-null object\n",
      "(How frequently do you travel?, Response)                                                                                        4269 non-null object\n",
      "(When you travel, where do you most often stay?, Response)                                                                       4269 non-null object\n",
      "(Unnamed: 403_level_0, Other (please specify))                                                                                   162 non-null object\n",
      "(How often do you cook at home?, Response)                                                                                       4269 non-null object\n",
      "(How often do you host people in your home?, Response)                                                                           4269 non-null object\n",
      "(How do you watch TV at home? (select all that apply), Hulu)                                                                     2299 non-null object\n",
      "(Unnamed: 407_level_0, Netflix)                                                                                                  4420 non-null object\n",
      "(Unnamed: 408_level_0, HBO app)                                                                                                  1898 non-null object\n",
      "(Unnamed: 409_level_0, Showtime app)                                                                                             500 non-null object\n",
      "(Unnamed: 410_level_0, Cable)                                                                                                    1662 non-null object\n",
      "(Unnamed: 411_level_0, YouTube TV)                                                                                               696 non-null object\n",
      "(Unnamed: 412_level_0, Sling TV)                                                                                                 148 non-null object\n",
      "(Unnamed: 413_level_0, I don’t watch TV)                                                                                         226 non-null object\n",
      "(Unnamed: 414_level_0, Other (please specify))                                                                                   891 non-null object\n",
      "(How often you do these things?, Read books)                                                                                     4891 non-null object\n",
      "(Unnamed: 416_level_0, Read magazines)                                                                                           4872 non-null object\n",
      "(Unnamed: 417_level_0, Read music blogs)                                                                                         4862 non-null object\n",
      "(Unnamed: 418_level_0, Watch a TV show at home)                                                                                  4885 non-null object\n",
      "(Unnamed: 419_level_0, Watch a movie at home)                                                                                    4888 non-null object\n",
      "(Unnamed: 420_level_0, Go see a movie in a theater)                                                                              4890 non-null object\n",
      "(Unnamed: 421_level_0, Play video games at home)                                                                                 4882 non-null object\n",
      "(What gaming console(s) do you use?, Option 1)                                                                                   0 non-null float64\n",
      "(Unnamed: 423_level_0, Option 2)                                                                                                 0 non-null float64\n",
      "(Unnamed: 424_level_0, Option 3)                                                                                                 0 non-null float64\n",
      "(Unnamed: 425_level_0, I don't use any gaming consoles)                                                                          0 non-null float64\n",
      "(Unnamed: 426_level_0, Playstation)                                                                                              1980 non-null object\n",
      "(Unnamed: 427_level_0, Xbox)                                                                                                     1252 non-null object\n",
      "(Unnamed: 428_level_0, Nintendo)                                                                                                 1682 non-null object\n",
      "(Unnamed: 429_level_0, PC)                                                                                                       1129 non-null object\n",
      "(Unnamed: 430_level_0, Mobile)                                                                                                   953 non-null object\n",
      "(Unnamed: 431_level_0, I don't use any gaming consoles)                                                                          1352 non-null object\n",
      "(What are your three favorite video games?, One)                                                                                 3365 non-null object\n",
      "(Unnamed: 433_level_0, Two)                                                                                                      3240 non-null object\n",
      "(Unnamed: 434_level_0, Three)                                                                                                    3099 non-null object\n",
      "(Do you consider yourself a part of the VMP Community?, Response)                                                                4888 non-null object\n",
      "(Why not? (optional), Open-Ended Response)                                                                                       1064 non-null object\n",
      "(Are you interested in connecting with other VMP members IRL (in real life) via VMP events or meet ups?, Response)               4862 non-null object\n",
      "(Which VMP community events/opportunities interest you most? (pick up to 3), Facebook)                                           778 non-null object\n",
      "(Unnamed: 439_level_0, Private FB groups)                                                                                        490 non-null object\n",
      "(Unnamed: 440_level_0, Instagram)                                                                                                1387 non-null object\n",
      "(Unnamed: 441_level_0, Twitter)                                                                                                  561 non-null object\n",
      "(Unnamed: 442_level_0, VMP Forum)                                                                                                1029 non-null object\n",
      "(Unnamed: 443_level_0, Reddit)                                                                                                   1026 non-null object\n",
      "(Unnamed: 444_level_0, Social media)                                                                                             384 non-null object\n",
      "(Unnamed: 445_level_0, The VMP Forum)                                                                                            626 non-null object\n",
      "(Unnamed: 446_level_0, In-person meet ups in your city)                                                                          1223 non-null object\n",
      "(Unnamed: 447_level_0, VMP Events / listening parties)                                                                           1891 non-null object\n",
      "(Unnamed: 448_level_0, None of these)                                                                                            1021 non-null object\n",
      "(How often do you engage with the VMP community in these ways?, Visit the VMP Forum)                                             4850 non-null object\n",
      "(Unnamed: 450_level_0, Attend VMP events, like The Spins)                                                                        4849 non-null object\n",
      "(Unnamed: 451_level_0, Interact with other VMP members on social media)                                                          4850 non-null object\n",
      "(What is your favorite part of the VMP community?, Open-Ended Response)                                                          3737 non-null object\n",
      "(What would deepen your connection to the VMP Member community?, Open-Ended Response)                                            3909 non-null object\n",
      "dtypes: float64(28), int64(2), object(424)\n",
      "memory usage: 21.4+ MB\n",
      "None\n"
     ]
    }
   ],
   "source": [
    "print(df.info(verbose=True, null_counts=True))"
   ]
  },
  {
   "cell_type": "code",
   "execution_count": 7,
   "metadata": {},
   "outputs": [],
   "source": [
    "col_df = pd.DataFrame(df.columns.to_numpy().reshape([-1, 1]))"
   ]
  },
  {
   "cell_type": "code",
   "execution_count": 8,
   "metadata": {},
   "outputs": [
    {
     "name": "stdout",
     "output_type": "stream",
     "text": [
      "                                                                                   0\n",
      "0                                                (Respondent ID, Unnamed: 0_level_1)\n",
      "1                                                 (Collector ID, Unnamed: 1_level_1)\n",
      "2                                                   (Start Date, Unnamed: 2_level_1)\n",
      "3                                                     (End Date, Unnamed: 3_level_1)\n",
      "4                                                   (IP Address, Unnamed: 4_level_1)\n",
      "5                                                (Email Address, Unnamed: 5_level_1)\n",
      "6                                                   (First Name, Unnamed: 6_level_1)\n",
      "7                                                    (Last Name, Unnamed: 7_level_1)\n",
      "8                                                (Custom Data 1, Unnamed: 8_level_1)\n",
      "9                                                       (How old are you?, Response)\n",
      "10                                       (To what gender do you identify?, Response)\n",
      "11                                    (Unnamed: 11_level_0, Prefer to self describe)\n",
      "12                                                   (Where do you live? , Response)\n",
      "13                                     (What is your living arrangement? , Response)\n",
      "14                                   (How many bedrooms are in your home?, Response)\n",
      "15                     (With whom do you live? (best/closest description), Response)\n",
      "16                                           (Do you own/lease a vehicle?, Response)\n",
      "17   (On which social media platforms are you active? (check all that apply), Ins...\n",
      "18                                                   (Unnamed: 18_level_0, Facebook)\n",
      "19                                                    (Unnamed: 19_level_0, Twitter)\n",
      "20                                                     (Unnamed: 20_level_0, Reddit)\n",
      "21                                                    (Unnamed: 21_level_0, YouTube)\n",
      "22                                                  (Unnamed: 22_level_0, Pinterest)\n",
      "23                                                   (Unnamed: 23_level_0, Snapchat)\n",
      "24                                                     (Unnamed: 24_level_0, Tumblr)\n",
      "25                                                     (Unnamed: 25_level_0, TikTok)\n",
      "26                                                 (Unnamed: 26_level_0, Musical.ly)\n",
      "27                                          (Unnamed: 27_level_0, None of the above)\n",
      "28                             (Which VMP social accounts do you follow?, Instagram)\n",
      "29                                                   (Unnamed: 29_level_0, Facebook)\n",
      "30                                                    (Unnamed: 30_level_0, Twitter)\n",
      "31                                                     (Unnamed: 31_level_0, Reddit)\n",
      "32                                          (Unnamed: 32_level_0, None of the above)\n",
      "33                                (How long have you been buying records?, Response)\n",
      "34   (About how many records do you own? (numbers only, ok to estimate), Open-End...\n",
      "35                 (Why did you start buying vinyl originally?, Open-Ended Response)\n",
      "36                          (About how many records do you buy per month?, Response)\n",
      "37   (Have you ever inherited/been gifted a friend or family member's record coll...\n",
      "38                                              (Unnamed: 38_level_0, Yes, a parent)\n",
      "39                                             (Unnamed: 39_level_0, Yes, a sibling)\n",
      "40                                         (Unnamed: 40_level_0, Yes, a grandparent)\n",
      "41                                              (Unnamed: 41_level_0, Yes, a friend)\n",
      "42                                                 (Unnamed: 42_level_0, Yes, other)\n",
      "43               (How often do you buy records from these places?, At a store, used)\n",
      "44                                            (Unnamed: 44_level_0, At a store, new)\n",
      "45                                                     (Unnamed: 45_level_0, Amazon)\n",
      "46   (Unnamed: 46_level_0, Other specialty online store, like Newbury Comics, Rou...\n",
      "47                                                    (Unnamed: 47_level_0, Discogs)\n",
      "48                                                 (Unnamed: 48_level_0, Used other)\n",
      "49                                           (Unnamed: 49_level_0, Vinyl Me, Please)\n",
      "50                            (Unnamed: 50_level_0, Direct from the artist or label)\n",
      "51                                           (Unnamed: 51_level_0, Urban Outfitters)\n",
      "52                                                (Unnamed: 52_level_0, Flea market)\n",
      "53                                                       (Unnamed: 53_level_0, eBay)\n",
      "54                                         (Unnamed: 54_level_0, Estate/garage sale)\n",
      "55                                                   (Do you use Discogs?, Response)\n",
      "56        (How do you use Discogs? (check all that apply), I buy records on Discogs)\n",
      "57                                  (Unnamed: 57_level_0, I sell records on Discogs)\n",
      "58                               (Unnamed: 58_level_0, I have a wantlist on Discogs)\n",
      "59                            (Unnamed: 59_level_0, I have my collection on Discogs)\n",
      "60   (Unnamed: 60_level_0, I check Discogs prices while shopping for records at t...\n",
      "61                                    (How frequently do you use Discogs?, Response)\n",
      "62   (How much money do you spend per month on music—shows, streaming, vinyl, mer...\n",
      "63   (How much do you agree with these statements?, I consider myself a collector...\n",
      "64                         (Unnamed: 64_level_0, I usually listen to records alone.)\n",
      "65                              (Unnamed: 65_level_0, I work in the music industry.)\n",
      "66   (Unnamed: 66_level_0, When I purchase new vinyl, I always listen to it immed...\n",
      "67   (Unnamed: 67_level_0, My record collection is an important conversation star...\n",
      "68   (Unnamed: 68_level_0, The quality of the vinyl package is more important tha...\n",
      "69       (Unnamed: 69_level_0, I assume that I’ll sell my vinyl collection one day.)\n",
      "70                        (Unnamed: 70_level_0, I love teaching people about vinyl.)\n",
      "71                     (Unnamed: 71_level_0, Most of my friends also collect vinyl.)\n",
      "72             (Unnamed: 72_level_0, I prefer buying new records over used records.)\n",
      "73   (Unnamed: 73_level_0, I usually listen to my VMP Records of the Month many t...\n",
      "74                  (Unnamed: 74_level_0, I listen to records only on the weekends.)\n",
      "75   (Unnamed: 75_level_0, I listen to vinyl at home more often than I stream mus...\n",
      "76   (Unnamed: 76_level_0, It’s important to me that my vinyl collection is in th...\n",
      "77     (Unnamed: 77_level_0, I have a room in my home dedicated to vinyl listening.)\n",
      "78   (Unnamed: 78_level_0, I consider my vinyl collection as part of the main aes...\n",
      "79   (Unnamed: 79_level_0, I prefer to stream an album before I choose to buy it ...\n",
      "80   (Unnamed: 80_level_0, My home design (furniture, art, etc.) is important to ...\n",
      "81   (Unnamed: 81_level_0, It’s important to me that the records I buy are limite...\n",
      "82                  (Unnamed: 82_level_0, I often will resell or “flip” my records.)\n",
      "83    (What do you enjoy doing most when listening to records?, Open-Ended Response)\n",
      "84                    (How often do you listen to your record collection?, Response)\n",
      "85              (How many functional turntables do you have in your home?, Response)\n",
      "86                               (What’s your main vinyl listening setup?, Response)\n",
      "87                                     (Unnamed: 87_level_0, Other (please specify))\n",
      "88                       (Which is true regarding your primary turntable?, Response)\n",
      "89                        (Where did you purchase your primary turntable?, Response)\n",
      "90                                     (Unnamed: 90_level_0, Other (please specify))\n",
      "91   (How much did you spend on your current (primary) vinyl setup?, Open-Ended R...\n",
      "92   (What percent of your home music listening is vinyl (vs. streaming/MP3s, CDs...\n",
      "93   (What is the MAXIMUM quantity (total pressed) at which a release still feels...\n",
      "94                    (Why did you originally sign up for VMP?, Open-Ended Response)\n",
      "95                        (How did you first hear about Vinyl Me, Please?, Response)\n",
      "96                                     (Unnamed: 96_level_0, Other (please specify))\n",
      "97   (What has been your MOST played VMP record in the past 12 months?, Open-Ende...\n",
      "98   (What has been your LEAST played VMP record in the past 12 months?, Open-End...\n",
      "99   (How much do you agree with these statements?, I buy records online more oft...\n",
      "100  (Unnamed: 100_level_0, I visit my record store more often since becoming a V...\n",
      "101                (Unnamed: 101_level_0, I’ve discovered new artists thanks to VMP)\n",
      "102                     (Unnamed: 102_level_0, I attend more concerts thanks to VMP)\n",
      "103  (Unnamed: 103_level_0, I wish I received exclusive VMP shipments more freque...\n",
      "104  (Unnamed: 104_level_0, If I could pay $10 extra to receive my VMP shipments ...\n",
      "105                              (What is your preferred shipping method?, Response)\n",
      "106                                   (Unnamed: 106_level_0, Other (please specify))\n",
      "107  (How would you feel if we sent you a free vinyl record sponsored by a brand?...\n",
      "108     (I would like to see more of this from VMP... (check all that apply), Books)\n",
      "109                                                (Unnamed: 109_level_0, VMP merch)\n",
      "110                                        (Unnamed: 110_level_0, Band/artist merch)\n",
      "111                                 (Unnamed: 111_level_0, Concert ticket offerings)\n",
      "112                                                   (Unnamed: 112_level_0, Events)\n",
      "113                                                  (Unnamed: 113_level_0, Posters)\n",
      "114                                                     (Unnamed: 114_level_0, Gear)\n",
      "115                                 (Unnamed: 115_level_0, How the records are made)\n",
      "116                                                 (Unnamed: 116_level_0, Box sets)\n",
      "117                                      (Unnamed: 117_level_0, New release records)\n",
      "118                                          (Unnamed: 118_level_0, Classic records)\n",
      "119                                                      (Unnamed: 119_level_0, 45s)\n",
      "120                                   (Unnamed: 120_level_0, Other (please specify))\n",
      "121  (Do other people in your household regularly listen to records with you?, Re...\n",
      "122  (How likely is it that you would recommend this company to a friend or colle...\n",
      "123            (My favorite thing about Vinyl Me, Please is..., Open-Ended Response)\n",
      "124      (My LEAST favorite thing about Vinyl Me, Please is..., Open-Ended Response)\n",
      "125  (How satisfied are you with the following?, Record of the Month (selection, ...\n",
      "126   (Unnamed: 126_level_0, Add-on subscriptions (VMP Classics, VMP Rap & Hip-Hop))\n",
      "127                      (Unnamed: 127_level_0, Discovery (VMP Rising, On Rotation))\n",
      "128        (Unnamed: 128_level_0, VMP Store (selection, price, shopping experience))\n",
      "129            (Unnamed: 129_level_0, Content (The Magazine, podcast, The Standard))\n",
      "130  (Unnamed: 130_level_0, Customer Service (response time, resolution of your i...\n",
      "131  (Unnamed: 131_level_0, Shipping speed (how quickly you receive your shipments))\n",
      "132  (Unnamed: 132_level_0, Shipping service (package condition, order accuracy, ...\n",
      "133  (How often do you use/interact with the following Vinyl Me, Please elements?...\n",
      "134                                        (Unnamed: 134_level_0, Spotify playlists)\n",
      "135                                                (Unnamed: 135_level_0, The Spins)\n",
      "136                                             (Unnamed: 136_level_0, The Standard)\n",
      "137                                      (Unnamed: 137_level_0, The online magazine)\n",
      "138                                     (Unnamed: 138_level_0, VMP store exclusives)\n",
      "139                           (Unnamed: 139_level_0, Essentials Record of the Month)\n",
      "140                               (Unnamed: 140_level_0, Essentials cocktail recipe)\n",
      "141                                     (Unnamed: 141_level_0, Essentials art print)\n",
      "142                        (Unnamed: 142_level_0, Rap & Hip Hop Record of the Month)\n",
      "143                                (Unnamed: 143_level_0, Rap & Hip Hop art stencil)\n",
      "144                             (Unnamed: 144_level_0, Classics Record of the Month)\n",
      "145                         (Unnamed: 145_level_0, Classics listening notes booklet)\n",
      "146                        (Where do you discover/learn about new artists?, Friends)\n",
      "147                                                    (Unnamed: 147_level_0, Radio)\n",
      "148                                                      (Unnamed: 148_level_0, NPR)\n",
      "149           (Unnamed: 149_level_0, Playlists on streaming services (like Spotify))\n",
      "150                                         (Unnamed: 150_level_0, Vinyl Me, Please)\n",
      "151                                                (Unnamed: 151_level_0, Pitchfork)\n",
      "152                                                  (Unnamed: 152_level_0, YouTube)\n",
      "153                                       (Unnamed: 153_level_0, Instagram/Facebook)\n",
      "154                                        (Unnamed: 154_level_0, Other music blogs)\n",
      "155                                          (Unnamed: 155_level_0, Music magazines)\n",
      "156                                               (Unnamed: 156_level_0, Live shows)\n",
      "157                                       (Unnamed: 157_level_0, Record store clerk)\n",
      "158                (Do you subscribe to a paid digital streaming service?, Response)\n",
      "159                          (Which one/s? (select all that apply), Spotify Premium)\n",
      "160                                              (Unnamed: 160_level_0, Apple Music)\n",
      "161                                                   (Unnamed: 161_level_0, Deezer)\n",
      "162                                              (Unnamed: 162_level_0, Google Play)\n",
      "163                                            (Unnamed: 163_level_0, YouTube Music)\n",
      "164                                            (Unnamed: 164_level_0, Soundcloud Go)\n",
      "165                                             (Unnamed: 165_level_0, Pandora Plus)\n",
      "166                                                (Unnamed: 166_level_0, Sirius/XM)\n",
      "167                                              (Unnamed: 167_level_0, iHeartRadio)\n",
      "168                                             (Unnamed: 168_level_0, Amazon Music)\n",
      "169                                                    (Unnamed: 169_level_0, Tidal)\n",
      "170                                   (Unnamed: 170_level_0, Other (please specify))\n",
      "171    (How often do you use any of the following free services?, Soundcloud (free))\n",
      "172                                                  (Unnamed: 172_level_0, YouTube)\n",
      "173                                                 (Unnamed: 173_level_0, Bandcamp)\n",
      "174                                                 (Unnamed: 174_level_0, Mixcloud)\n",
      "175                                        (Unnamed: 175_level_0, Terrestrial Radio)\n",
      "176                               (Unnamed: 176_level_0, Internet radio like TuneIn)\n",
      "177                                           (Unnamed: 177_level_0, Spotify (free))\n",
      "178                                           (Unnamed: 178_level_0, Pandora (free))\n",
      "179  (On average, how many hours a day do you stream music? (numbers only, decima...\n",
      "180  (How much do you agree with these statements?, It’s important that my friend...\n",
      "181                  (Unnamed: 181_level_0, I am always up-to-date on music trends.)\n",
      "182  (Unnamed: 182_level_0, Curated playlists (by Spotify, Apple Music, etc.) are...\n",
      "183                              (Unnamed: 183_level_0, Music is best enjoyed live.)\n",
      "184  (Unnamed: 184_level_0, When it comes to my favorite artists, I’m an expert a...\n",
      "185  (Unnamed: 185_level_0, When it comes to music, I will listen to just about a...\n",
      "186         (Unnamed: 186_level_0, When it comes to music, I just know what I like.)\n",
      "187  (Unnamed: 187_level_0, Going to live shows is an important part of my social...\n",
      "188  (Unnamed: 188_level_0, I often go to shows without having heard of the artis...\n",
      "189       (Unnamed: 189_level_0, Knowing an artist’s life story is important to me.)\n",
      "190  (Unnamed: 190_level_0, I mostly listen to the same music I did in high schoo...\n",
      "191  (Unnamed: 191_level_0, When I listen to music alone, I’m usually doing somet...\n",
      "192  (Unnamed: 192_level_0, I spend a lot of time reading, researching, and learn...\n",
      "193                   (Unnamed: 193_level_0, Most of my friends also collect vinyl.)\n",
      "194     (Unnamed: 194_level_0, I am always listening to and creating new playlists.)\n",
      "195  (Unnamed: 195_level_0, When hearing new music, I know right away whether or ...\n",
      "196  (Unnamed: 196_level_0, My favorite records are prominently displayed in my h...\n",
      "197       (Unnamed: 197_level_0, Streaming services are bad for the music industry.)\n",
      "198                     (Unnamed: 198_level_0, Nobody is making good music anymore.)\n",
      "199  (Unnamed: 199_level_0, I check my favorite music blogs/publications every day.)\n",
      "200  (Unnamed: 200_level_0, Most of my friends are into the same bands/artists as...\n",
      "201  (Unnamed: 201_level_0, I’d see concerts I like at multiple stops on a tour i...\n",
      "202                      (Unnamed: 202_level_0, I frequently buy merch at concerts.)\n",
      "203                (Unnamed: 203_level_0, I prefer music festivals to small venues.)\n",
      "204  (Unnamed: 204_level_0, I go to concerts early to make sure I don’t miss open...\n",
      "205            (Unnamed: 205_level_0, I like to look up the lyrics to songs I love.)\n",
      "206                (Unnamed: 206_level_0, My taste in music is constantly evolving.)\n",
      "207       (Unnamed: 207_level_0, I buy everything that my favorite artists release.)\n",
      "208  (Unnamed: 208_level_0, I will often purchase a record solely because of the ...\n",
      "209  (Unnamed: 209_level_0, I go to specific restaurants/bars/coffee shops becaus...\n",
      "210  (Unnamed: 210_level_0, I read reviews to learn about music I might like befo...\n",
      "211                   (Unnamed: 211_level_0, Music keeps getting better every year.)\n",
      "212  (Unnamed: 212_level_0, I pay attention to who wrote the songs in addition to...\n",
      "213  (Unnamed: 213_level_0, I read the notes and look at all the art inside album...\n",
      "214     (Unnamed: 214_level_0, I have to hear an album before I’d ever purchase it.)\n",
      "215  (Unnamed: 215_level_0, I love engaging with people in conversations about mu...\n",
      "216      (Unnamed: 216_level_0, Streaming services are good for the music industry.)\n",
      "217                                     (How often do you go to concerts?, Response)\n",
      "218  (Where do you buy concert tickets? (rank in order of likelihood), Directly f...\n",
      "219                                             (Unnamed: 219_level_0, At the venue)\n",
      "220  (Unnamed: 220_level_0, From online ticket sales (Ticketmaster, Live nation, ...\n",
      "221                                       (Unnamed: 221_level_0, From a third party)\n",
      "222  (How often do you buy music directly from an artist (e.g. from their website...\n",
      "223                           (How often do you buy artist or band merch?, Response)\n",
      "224                     (How many music festivals do you attend per year?, Response)\n",
      "225            (About how many music related books do you own?, Open-Ended Response)\n",
      "226                                 (How often do you listen to podcasts?, Response)\n",
      "227                            (How many music podcasts do you listen to?, Response)\n",
      "228                           (Select your three favorite genres., Alternative Rock)\n",
      "229                                                  (Unnamed: 229_level_0, Ambient)\n",
      "230                                                   (Unnamed: 230_level_0, Ballad)\n",
      "231                                                    (Unnamed: 231_level_0, Blues)\n",
      "232                                             (Unnamed: 232_level_0, Classic Rock)\n",
      "233                                                (Unnamed: 233_level_0, Classical)\n",
      "234                                                  (Unnamed: 234_level_0, Country)\n",
      "235                                                    (Unnamed: 235_level_0, Disco)\n",
      "236                                                (Unnamed: 236_level_0, Downtempo)\n",
      "237                                               (Unnamed: 237_level_0, Electronic)\n",
      "238                                             (Unnamed: 238_level_0, Experimental)\n",
      "239                                                     (Unnamed: 239_level_0, Folk)\n",
      "240                                                     (Unnamed: 240_level_0, Funk)\n",
      "241                                                (Unnamed: 241_level_0, Hard Rock)\n",
      "242                                                 (Unnamed: 242_level_0, Hardcore)\n",
      "243                                              (Unnamed: 243_level_0, Heavy Metal)\n",
      "244                                                  (Unnamed: 244_level_0, Hip Hop)\n",
      "245                                                    (Unnamed: 245_level_0, House)\n",
      "246                                               (Unnamed: 246_level_0, Indie Rock)\n",
      "247                                                     (Unnamed: 247_level_0, Jazz)\n",
      "248                                                    (Unnamed: 248_level_0, Latin)\n",
      "249                                                    (Unnamed: 249_level_0, Noise)\n",
      "250                                                      (Unnamed: 250_level_0, Pop)\n",
      "251                                                (Unnamed: 251_level_0, Prog Rock)\n",
      "252                                         (Unnamed: 252_level_0, Psychedelic Rock)\n",
      "253                                                     (Unnamed: 253_level_0, Punk)\n",
      "254                                                      (Unnamed: 254_level_0, Rap)\n",
      "255                                                   (Unnamed: 255_level_0, Reggae)\n",
      "256                                              (Unnamed: 256_level_0, Rock & Roll)\n",
      "257                                                     (Unnamed: 257_level_0, Soul)\n",
      "258                                              (Unnamed: 258_level_0, Soundtracks)\n",
      "259                                                (Unnamed: 259_level_0, Synth-pop)\n",
      "260                                                   (Unnamed: 260_level_0, Techno)\n",
      "261                                                   (Unnamed: 261_level_0, Trance)\n",
      "262                                                    (Unnamed: 262_level_0, Vocal)\n",
      "263                                                    (Unnamed: 263_level_0, World)\n",
      "264                     (Select your three LEAST favorite genres., Alternative Rock)\n",
      "265                                                  (Unnamed: 265_level_0, Ambient)\n",
      "266                                                   (Unnamed: 266_level_0, Ballad)\n",
      "267                                                    (Unnamed: 267_level_0, Blues)\n",
      "268                                             (Unnamed: 268_level_0, Classic Rock)\n",
      "269                                                (Unnamed: 269_level_0, Classical)\n",
      "270                                                  (Unnamed: 270_level_0, Country)\n",
      "271                                                    (Unnamed: 271_level_0, Disco)\n",
      "272                                                (Unnamed: 272_level_0, Downtempo)\n",
      "273                                               (Unnamed: 273_level_0, Electronic)\n",
      "274                                             (Unnamed: 274_level_0, Experimental)\n",
      "275                                                     (Unnamed: 275_level_0, Folk)\n",
      "276                                                     (Unnamed: 276_level_0, Funk)\n",
      "277                                                (Unnamed: 277_level_0, Hard Rock)\n",
      "278                                                 (Unnamed: 278_level_0, Hardcore)\n",
      "279                                              (Unnamed: 279_level_0, Heavy Metal)\n",
      "280                                                  (Unnamed: 280_level_0, Hip Hop)\n",
      "281                                                    (Unnamed: 281_level_0, House)\n",
      "282                                               (Unnamed: 282_level_0, Indie Rock)\n",
      "283                                                     (Unnamed: 283_level_0, Jazz)\n",
      "284                                                    (Unnamed: 284_level_0, Latin)\n",
      "285                                                    (Unnamed: 285_level_0, Noise)\n",
      "286                                                      (Unnamed: 286_level_0, Pop)\n",
      "287                                                (Unnamed: 287_level_0, Prog Rock)\n",
      "288                                         (Unnamed: 288_level_0, Psychedelic Rock)\n",
      "289                                                     (Unnamed: 289_level_0, Punk)\n",
      "290                                                      (Unnamed: 290_level_0, Rap)\n",
      "291                                                   (Unnamed: 291_level_0, Reggae)\n",
      "292                                              (Unnamed: 292_level_0, Rock & Roll)\n",
      "293                                                     (Unnamed: 293_level_0, Soul)\n",
      "294                                              (Unnamed: 294_level_0, Soundtracks)\n",
      "295                                                (Unnamed: 295_level_0, Synth-pop)\n",
      "296                                                   (Unnamed: 296_level_0, Techno)\n",
      "297                                                   (Unnamed: 297_level_0, Trance)\n",
      "298                                                    (Unnamed: 298_level_0, Vocal)\n",
      "299                                                    (Unnamed: 299_level_0, World)\n",
      "300  (What other hobbies do you spend money on monthly? (select all that apply), ...\n",
      "301                                            (Unnamed: 301_level_0, Sports league)\n",
      "302                                 (Unnamed: 302_level_0, A gym/fitness membership)\n",
      "303                                   (Unnamed: 303_level_0, Magazine subscriptions)\n",
      "304                                                    (Unnamed: 304_level_0, Books)\n",
      "305                                                   (Unnamed: 305_level_0, Gaming)\n",
      "306                                 (Unnamed: 306_level_0, Creating art/photography)\n",
      "307                                                     (Unnamed: 307_level_0, None)\n",
      "308                                   (Unnamed: 308_level_0, Other (please specify))\n",
      "309  (Which other services or clubs do you subscribe to? (select all that apply),...\n",
      "310                                               (Unnamed: 310_level_0, Shave club)\n",
      "311                                   (Unnamed: 311_level_0, Personal care products)\n",
      "312                                       (Unnamed: 312_level_0, Wine and/or spirit)\n",
      "313                                      (Unnamed: 313_level_0, Coffee subscription)\n",
      "314                                                (Unnamed: 314_level_0, Book club)\n",
      "315                                          (Unnamed: 315_level_0, Artist fan club)\n",
      "316          (Unnamed: 316_level_0, Home cooking, such as Blue Apron or Hello Fresh)\n",
      "317                                (Unnamed: 317_level_0, Pet food/toy subscription)\n",
      "318                                                     (Unnamed: 318_level_0, None)\n",
      "319                                   (Unnamed: 319_level_0, Other (please specify))\n",
      "320  (Do you collect things other than vinyl? (select all that apply), Sneakers /...\n",
      "321                                              (Unnamed: 321_level_0, Comic books)\n",
      "322                                         (Unnamed: 322_level_0, Collectible toys)\n",
      "323                                                    (Unnamed: 323_level_0, Books)\n",
      "324                                       (Unnamed: 324_level_0, Sports memorabilia)\n",
      "325                                                      (Unnamed: 325_level_0, Art)\n",
      "326                                          (Unnamed: 326_level_0, Concert posters)\n",
      "327                                         (Unnamed: 327_level_0, Merch / t-shirts)\n",
      "328                                                     (Unnamed: 328_level_0, None)\n",
      "329                                   (Unnamed: 329_level_0, Other (please specify))\n",
      "330       (What sports do you follow? (check all that apply), Major League Baseball)\n",
      "331                                                      (Unnamed: 331_level_0, NBA)\n",
      "332                                                      (Unnamed: 332_level_0, NFL)\n",
      "333                                                      (Unnamed: 333_level_0, NHL)\n",
      "334                                                   (Unnamed: 334_level_0, Nascar)\n",
      "335                                                 (Unnamed: 335_level_0, E-Sports)\n",
      "336                                                     (Unnamed: 336_level_0, Golf)\n",
      "337                                                   (Unnamed: 337_level_0, Tennis)\n",
      "338                                                   (Unnamed: 338_level_0, Soccer)\n",
      "339                                       (Unnamed: 339_level_0, College basketball)\n",
      "340                                         (Unnamed: 340_level_0, College football)\n",
      "341                                                     (Unnamed: 341_level_0, None)\n",
      "342                                   (Unnamed: 342_level_0, Other (please specify))\n",
      "343                         (What are your three favorite clothing brands?, Brand 1)\n",
      "344                                                  (Unnamed: 344_level_0, Brand 2)\n",
      "345                                                  (Unnamed: 345_level_0, Brand 3)\n",
      "346                            (What are your three favorite music brands?, Brand 1)\n",
      "347                                                  (Unnamed: 347_level_0, Brand 2)\n",
      "348                                                  (Unnamed: 348_level_0, Brand 3)\n",
      "349  (What are three non-clothing brands you follow, respect, and buy from?, Bran...\n",
      "350                                                  (Unnamed: 350_level_0, Brand 2)\n",
      "351                                                  (Unnamed: 351_level_0, Brand 3)\n",
      "352                                                (Do you drink alcohol?, Response)\n",
      "353                                              (How often do you drink?, Response)\n",
      "354   (Rank these beverages in order of your preference (favorite at the top), Beer)\n",
      "355                                                     (Unnamed: 355_level_0, Wine)\n",
      "356                                  (Unnamed: 356_level_0, Straight liquor / rocks)\n",
      "357                                                (Unnamed: 357_level_0, Cocktails)\n",
      "358  (Rank these types of beer in order of your preference (favorite at the top),...\n",
      "359                                                 (Unnamed: 359_level_0, Domestic)\n",
      "360                                               (Unnamed: 360_level_0, Craft beer)\n",
      "361                                                 (Unnamed: 361_level_0, Seasonal)\n",
      "362                                   (What kinds of spirits do you drink? , Scotch)\n",
      "363                                            (Unnamed: 363_level_0, Irish Whiskey)\n",
      "364                          (Unnamed: 364_level_0, American Whiskey (bourbon, rye))\n",
      "365                                                    (Unnamed: 365_level_0, Vodka)\n",
      "366                                                  (Unnamed: 366_level_0, Tequila)\n",
      "367                                                   (Unnamed: 367_level_0, Mezcal)\n",
      "368                                                      (Unnamed: 368_level_0, Gin)\n",
      "369                                                      (Unnamed: 369_level_0, Rum)\n",
      "370                                                  (Unnamed: 370_level_0, Liqueur)\n",
      "371                                                     (Unnamed: 371_level_0, None)\n",
      "372                                                (Do you drink at home?, Response)\n",
      "373                                       (Do you make cocktails at home?, Response)\n",
      "374                                         (How often do you go to bars?, Response)\n",
      "375  (Tell us about your marijuana use (we live in Colorado, don’t worry), Response)\n",
      "376                            (Rank marijuana use in order of preference., Smoking)\n",
      "377                                                   (Unnamed: 377_level_0, Vaping)\n",
      "378                                      (Unnamed: 378_level_0, Edibles/ingestibles)\n",
      "379                                                    (Unnamed: 379_level_0, Other)\n",
      "380                                                 (Unnamed: 380_level_0, CBD only)\n",
      "381                               (How often do you use marijuana or CBD?, Response)\n",
      "382              (What other beverages do you drink? (check all that apply), Coffee)\n",
      "383                                                (Unnamed: 383_level_0, Cold brew)\n",
      "384                                                      (Unnamed: 384_level_0, Tea)\n",
      "385                                                     (Unnamed: 385_level_0, Soda)\n",
      "386                                             (Unnamed: 386_level_0, Energy drink)\n",
      "387                                                 (Unnamed: 387_level_0, Kombucha)\n",
      "388                                                    (Unnamed: 388_level_0, Macha)\n",
      "389                                            (Unnamed: 389_level_0, Pressed juice)\n",
      "390                              (Unnamed: 390_level_0, Sparkling water / club soda)\n",
      "391                                            (Unnamed: 391_level_0, None of these)\n",
      "392                  (Where do you buy your furniture? (check all that apply), Etsy)\n",
      "393                                    (Unnamed: 393_level_0, Craigslist or similar)\n",
      "394                                        (Unnamed: 394_level_0, Second hand store)\n",
      "395                                                     (Unnamed: 395_level_0, IKEA)\n",
      "396  (Unnamed: 396_level_0, Specialty store like West Elm, CB2, Design Within Rea...\n",
      "397  (Unnamed: 397_level_0, Big chain or department store like Wal Mart, Target, ...\n",
      "398                                                   (Unnamed: 398_level_0, Online)\n",
      "399                                            (Unnamed: 399_level_0, Vintage store)\n",
      "400                                            (Unnamed: 400_level_0, None of these)\n",
      "401                                        (How frequently do you travel?, Response)\n",
      "402                       (When you travel, where do you most often stay?, Response)\n",
      "403                                   (Unnamed: 403_level_0, Other (please specify))\n",
      "404                                       (How often do you cook at home?, Response)\n",
      "405                           (How often do you host people in your home?, Response)\n",
      "406                     (How do you watch TV at home? (select all that apply), Hulu)\n",
      "407                                                  (Unnamed: 407_level_0, Netflix)\n",
      "408                                                  (Unnamed: 408_level_0, HBO app)\n",
      "409                                             (Unnamed: 409_level_0, Showtime app)\n",
      "410                                                    (Unnamed: 410_level_0, Cable)\n",
      "411                                               (Unnamed: 411_level_0, YouTube TV)\n",
      "412                                                 (Unnamed: 412_level_0, Sling TV)\n",
      "413                                         (Unnamed: 413_level_0, I don’t watch TV)\n",
      "414                                   (Unnamed: 414_level_0, Other (please specify))\n",
      "415                                     (How often you do these things?, Read books)\n",
      "416                                           (Unnamed: 416_level_0, Read magazines)\n",
      "417                                         (Unnamed: 417_level_0, Read music blogs)\n",
      "418                                  (Unnamed: 418_level_0, Watch a TV show at home)\n",
      "419                                    (Unnamed: 419_level_0, Watch a movie at home)\n",
      "420                              (Unnamed: 420_level_0, Go see a movie in a theater)\n",
      "421                                 (Unnamed: 421_level_0, Play video games at home)\n",
      "422                                   (What gaming console(s) do you use?, Option 1)\n",
      "423                                                 (Unnamed: 423_level_0, Option 2)\n",
      "424                                                 (Unnamed: 424_level_0, Option 3)\n",
      "425                          (Unnamed: 425_level_0, I don't use any gaming consoles)\n",
      "426                                              (Unnamed: 426_level_0, Playstation)\n",
      "427                                                     (Unnamed: 427_level_0, Xbox)\n",
      "428                                                 (Unnamed: 428_level_0, Nintendo)\n",
      "429                                                       (Unnamed: 429_level_0, PC)\n",
      "430                                                   (Unnamed: 430_level_0, Mobile)\n",
      "431                          (Unnamed: 431_level_0, I don't use any gaming consoles)\n",
      "432                                 (What are your three favorite video games?, One)\n",
      "433                                                      (Unnamed: 433_level_0, Two)\n",
      "434                                                    (Unnamed: 434_level_0, Three)\n",
      "435                (Do you consider yourself a part of the VMP Community?, Response)\n",
      "436                                       (Why not? (optional), Open-Ended Response)\n",
      "437  (Are you interested in connecting with other VMP members IRL (in real life) ...\n",
      "438  (Which VMP community events/opportunities interest you most? (pick up to 3),...\n",
      "439                                        (Unnamed: 439_level_0, Private FB groups)\n",
      "440                                                (Unnamed: 440_level_0, Instagram)\n",
      "441                                                  (Unnamed: 441_level_0, Twitter)\n",
      "442                                                (Unnamed: 442_level_0, VMP Forum)\n",
      "443                                                   (Unnamed: 443_level_0, Reddit)\n",
      "444                                             (Unnamed: 444_level_0, Social media)\n",
      "445                                            (Unnamed: 445_level_0, The VMP Forum)\n",
      "446                          (Unnamed: 446_level_0, In-person meet ups in your city)\n",
      "447                           (Unnamed: 447_level_0, VMP Events / listening parties)\n",
      "448                                            (Unnamed: 448_level_0, None of these)\n",
      "449  (How often do you engage with the VMP community in these ways?, Visit the VM...\n",
      "450                        (Unnamed: 450_level_0, Attend VMP events, like The Spins)\n",
      "451          (Unnamed: 451_level_0, Interact with other VMP members on social media)\n",
      "452          (What is your favorite part of the VMP community?, Open-Ended Response)\n",
      "453  (What would deepen your connection to the VMP Member community?, Open-Ended ...\n"
     ]
    }
   ],
   "source": [
    "with pd.option_context('display.max_rows', None, 'display.max_columns', None, 'display.max_colwidth', 80):\n",
    "    print(col_df)"
   ]
  },
  {
   "cell_type": "code",
   "execution_count": 9,
   "metadata": {},
   "outputs": [],
   "source": [
    "df_noobs = df[(df.iloc[:,33] == 'I just started') | (df.iloc[:,33] == '6 - 12 months') | (df.iloc[:,33] == '1-3 years')]"
   ]
  },
  {
   "cell_type": "code",
   "execution_count": 10,
   "metadata": {},
   "outputs": [
    {
     "name": "stdout",
     "output_type": "stream",
     "text": [
      "length total: 6172\n",
      "length noobs: 1734\n"
     ]
    }
   ],
   "source": [
    "print(f\"length total: {len(df)}\")\n",
    "print(f\"length noobs: {len(df_noobs)}\")"
   ]
  },
  {
   "cell_type": "code",
   "execution_count": 11,
   "metadata": {},
   "outputs": [
    {
     "data": {
      "text/plain": [
       "Strongly Disagree    0.419605\n",
       "Disagree             0.398929\n",
       "Neutral              0.133653\n",
       "Agree                0.036182\n",
       "Strongly Agree       0.011630\n",
       "Name: (Unnamed: 104_level_0, If I could pay $10 extra to receive my VMP shipments FASTER, then I would), dtype: float64"
      ]
     },
     "execution_count": 11,
     "metadata": {},
     "output_type": "execute_result"
    }
   ],
   "source": [
    "df.iloc[:,104].value_counts(normalize=True)"
   ]
  },
  {
   "cell_type": "code",
   "execution_count": 12,
   "metadata": {},
   "outputs": [],
   "source": [
    "def col_binary_encode(col_idx_list, data_frame):\n",
    "    \"\"\" \n",
    "    Function to binary encode the values in a pandas DataFrame column.\n",
    "\n",
    "    Parameters: \n",
    "        col_idx_list (int): The index of the column to be encoded.\n",
    "        data_frame: Name of the DataFrame containing the column in question.\n",
    "\n",
    "    Returns: \n",
    "        DataFrame column with values encoded as follows:\n",
    "            'str(column title)' --> 1\n",
    "            anything else       --> 0\n",
    "    \"\"\"\n",
    "    for col_idx in col_idx_list:\n",
    "        label = data_frame.columns.get_level_values(1)[col_idx]\n",
    "        data_frame.iloc[:,col_idx] = data_frame.iloc[:,col_idx].apply(lambda x:\n",
    "                                    1 if (str(x) == str(label)) | (x == 1) else 0)"
   ]
  },
  {
   "cell_type": "code",
   "execution_count": 13,
   "metadata": {},
   "outputs": [
    {
     "name": "stderr",
     "output_type": "stream",
     "text": [
      "/anaconda3/lib/python3.7/site-packages/pandas/core/indexing.py:494: SettingWithCopyWarning: \n",
      "A value is trying to be set on a copy of a slice from a DataFrame.\n",
      "Try using .loc[row_indexer,col_indexer] = value instead\n",
      "\n",
      "See the caveats in the documentation: http://pandas.pydata.org/pandas-docs/stable/user_guide/indexing.html#returning-a-view-versus-a-copy\n",
      "  self.obj[item] = s\n"
     ]
    }
   ],
   "source": [
    "encode_col_list = list(range(17, 33))\n",
    "col_binary_encode(encode_col_list, df)\n",
    "col_binary_encode(encode_col_list, df_noobs)"
   ]
  },
  {
   "cell_type": "code",
   "execution_count": 14,
   "metadata": {},
   "outputs": [],
   "source": [
    "encode_col_list = list(range(108, 120))\n",
    "col_binary_encode(encode_col_list, df)\n",
    "col_binary_encode(encode_col_list, df_noobs)"
   ]
  },
  {
   "cell_type": "code",
   "execution_count": 15,
   "metadata": {},
   "outputs": [],
   "source": [
    "# df.head(5)"
   ]
  },
  {
   "cell_type": "code",
   "execution_count": 16,
   "metadata": {},
   "outputs": [],
   "source": [
    "# Col 36 - About how many records do you buy per month?\n",
    "# 3-Feb         --> 2-3\n",
    "# 5-Apr         --> 4-5\n",
    "# 0 - 1         --> 0-1\n",
    "# 10-Jun        --> 6-10\n",
    "# More than 10  --> More than 10"
   ]
  },
  {
   "cell_type": "code",
   "execution_count": 17,
   "metadata": {},
   "outputs": [],
   "source": [
    "df.iloc[:,34].fillna(0, inplace=True)"
   ]
  },
  {
   "cell_type": "code",
   "execution_count": 18,
   "metadata": {},
   "outputs": [
    {
     "data": {
      "text/plain": [
       "215.0"
      ]
     },
     "execution_count": 18,
     "metadata": {},
     "output_type": "execute_result"
    }
   ],
   "source": [
    "df.iloc[:,34].median()"
   ]
  },
  {
   "cell_type": "code",
   "execution_count": 19,
   "metadata": {},
   "outputs": [
    {
     "data": {
      "text/plain": [
       "80.0"
      ]
     },
     "execution_count": 19,
     "metadata": {},
     "output_type": "execute_result"
    }
   ],
   "source": [
    "df_noobs.iloc[:,34].median()"
   ]
  },
  {
   "cell_type": "code",
   "execution_count": 20,
   "metadata": {},
   "outputs": [
    {
     "data": {
      "text/plain": [
       "101099.0"
      ]
     },
     "execution_count": 20,
     "metadata": {},
     "output_type": "execute_result"
    }
   ],
   "source": [
    "df.iloc[:,34].max()"
   ]
  },
  {
   "cell_type": "code",
   "execution_count": 21,
   "metadata": {},
   "outputs": [
    {
     "data": {
      "image/png": "[encoded data removed]",
      "text/plain": [
       "<Figure size 1152x144 with 1 Axes>"
      ]
     },
     "metadata": {
      "needs_background": "light"
     },
     "output_type": "display_data"
    }
   ],
   "source": [
    "def one_dim_scatterplot(data, ax, jitter=0.4, **options):\n",
    "    if jitter:\n",
    "        jitter = np.random.uniform(-jitter, jitter, size=data.shape)\n",
    "    else:\n",
    "        jitter = np.repeat(0.0, len(data))\n",
    "    ax.scatter(data, jitter, **options)\n",
    "    ax.yaxis.set_ticklabels([])\n",
    "    ax.set_ylim([-1, 1])\n",
    "\n",
    "fig, ax = plt.subplots(1, figsize=(16, 2))\n",
    "one_dim_scatterplot(df.iloc[:,34], ax, s=25, alpha=0.2)"
   ]
  },
  {
   "cell_type": "code",
   "execution_count": 24,
   "metadata": {},
   "outputs": [
    {
     "data": {
      "text/plain": [
       "1500.0"
      ]
     },
     "execution_count": 24,
     "metadata": {},
     "output_type": "execute_result"
    }
   ],
   "source": [
    "np.percentile(df.iloc[:,34].to_numpy(), 90)"
   ]
  },
  {
   "cell_type": "code",
   "execution_count": 22,
   "metadata": {},
   "outputs": [
    {
     "data": {
      "text/plain": [
       "754.8421905379132"
      ]
     },
     "execution_count": 22,
     "metadata": {},
     "output_type": "execute_result"
    }
   ],
   "source": [
    "df.iloc[:,34].mean()"
   ]
  },
  {
   "cell_type": "code",
   "execution_count": 23,
   "metadata": {},
   "outputs": [
    {
     "data": {
      "text/plain": [
       "141.6159169550173"
      ]
     },
     "execution_count": 23,
     "metadata": {},
     "output_type": "execute_result"
    }
   ],
   "source": [
    "df_noobs.iloc[:,34].mean()"
   ]
  },
  {
   "cell_type": "code",
   "execution_count": 24,
   "metadata": {},
   "outputs": [
    {
     "data": {
      "text/plain": [
       "Satisfied            0.484266\n",
       "Very Satisfied       0.336160\n",
       "Neutral              0.124929\n",
       "Dissatisfied         0.046919\n",
       "Very Dissatsified    0.007726\n",
       "Name: (How satisfied are you with the following?, Record of the Month (selection, package quality)), dtype: float64"
      ]
     },
     "execution_count": 24,
     "metadata": {},
     "output_type": "execute_result"
    }
   ],
   "source": [
    "df.iloc[:,125].value_counts(normalize=True)"
   ]
  },
  {
   "cell_type": "code",
   "execution_count": 25,
   "metadata": {},
   "outputs": [
    {
     "data": {
      "text/plain": [
       "Satisfied            0.461039\n",
       "Very Satisfied       0.359740\n",
       "Neutral              0.127273\n",
       "Dissatisfied         0.046104\n",
       "Very Dissatsified    0.005844\n",
       "Name: (How satisfied are you with the following?, Record of the Month (selection, package quality)), dtype: float64"
      ]
     },
     "execution_count": 25,
     "metadata": {},
     "output_type": "execute_result"
    }
   ],
   "source": [
    "df_noobs.iloc[:,125].value_counts(normalize=True)"
   ]
  },
  {
   "cell_type": "code",
   "execution_count": 26,
   "metadata": {},
   "outputs": [
    {
     "data": {
      "text/plain": [
       "3-Feb           0.452463\n",
       "5-Apr           0.204616\n",
       "0 - 1           0.186531\n",
       "10-Jun          0.099380\n",
       "More than 10    0.057010\n",
       "Name: (About how many records do you buy per month?, Response), dtype: float64"
      ]
     },
     "execution_count": 26,
     "metadata": {},
     "output_type": "execute_result"
    }
   ],
   "source": [
    "df.iloc[:,36].value_counts(normalize=True)"
   ]
  },
  {
   "cell_type": "code",
   "execution_count": 27,
   "metadata": {},
   "outputs": [
    {
     "data": {
      "text/plain": [
       "3-Feb           0.489043\n",
       "0 - 1           0.265859\n",
       "5-Apr           0.158016\n",
       "10-Jun          0.064591\n",
       "More than 10    0.022491\n",
       "Name: (About how many records do you buy per month?, Response), dtype: float64"
      ]
     },
     "execution_count": 27,
     "metadata": {},
     "output_type": "execute_result"
    }
   ],
   "source": [
    "df_noobs.iloc[:,36].value_counts(normalize=True)"
   ]
  },
  {
   "cell_type": "code",
   "execution_count": 28,
   "metadata": {},
   "outputs": [
    {
     "data": {
      "text/plain": [
       "Disagree             0.462244\n",
       "Strongly Disagree    0.247883\n",
       "Neutral              0.215596\n",
       "Agree                0.055222\n",
       "Strongly Agree       0.019054\n",
       "Name: (Unnamed: 68_level_0, The quality of the vinyl package is more important than the music.), dtype: float64"
      ]
     },
     "execution_count": 28,
     "metadata": {},
     "output_type": "execute_result"
    }
   ],
   "source": [
    "df.iloc[:,68].value_counts(normalize=True)"
   ]
  },
  {
   "cell_type": "code",
   "execution_count": 29,
   "metadata": {},
   "outputs": [
    {
     "data": {
      "text/plain": [
       "Disagree             0.466627\n",
       "Neutral              0.245530\n",
       "Strongly Disagree    0.202622\n",
       "Agree                0.063170\n",
       "Strongly Agree       0.022050\n",
       "Name: (Unnamed: 68_level_0, The quality of the vinyl package is more important than the music.), dtype: float64"
      ]
     },
     "execution_count": 29,
     "metadata": {},
     "output_type": "execute_result"
    }
   ],
   "source": [
    "df_noobs.iloc[:,68].value_counts(normalize=True)"
   ]
  },
  {
   "cell_type": "code",
   "execution_count": 30,
   "metadata": {},
   "outputs": [
    {
     "data": {
      "text/plain": [
       "Agree                0.326394\n",
       "Neutral              0.292696\n",
       "Disagree             0.195836\n",
       "Strongly Agree       0.112562\n",
       "Strongly Disagree    0.072512\n",
       "Name: (Unnamed: 79_level_0, I prefer to stream an album before I choose to buy it on vinyl.), dtype: float64"
      ]
     },
     "execution_count": 30,
     "metadata": {},
     "output_type": "execute_result"
    }
   ],
   "source": [
    "df.iloc[:,79].value_counts(normalize=True)"
   ]
  },
  {
   "cell_type": "code",
   "execution_count": 31,
   "metadata": {},
   "outputs": [
    {
     "data": {
      "text/plain": [
       "Agree                0.365316\n",
       "Neutral              0.252682\n",
       "Strongly Agree       0.181764\n",
       "Disagree             0.151967\n",
       "Strongly Disagree    0.048272\n",
       "Name: (Unnamed: 79_level_0, I prefer to stream an album before I choose to buy it on vinyl.), dtype: float64"
      ]
     },
     "execution_count": 31,
     "metadata": {},
     "output_type": "execute_result"
    }
   ],
   "source": [
    "df_noobs.iloc[:,79].value_counts(normalize=True)"
   ]
  },
  {
   "cell_type": "code",
   "execution_count": 32,
   "metadata": {},
   "outputs": [
    {
     "data": {
      "text/plain": [
       "Neutral              0.357092\n",
       "Disagree             0.258116\n",
       "Agree                0.228652\n",
       "Strongly Disagree    0.103564\n",
       "Strongly Agree       0.052576\n",
       "Name: (Unnamed: 81_level_0, It’s important to me that the records I buy are limited/exclusive.), dtype: float64"
      ]
     },
     "execution_count": 32,
     "metadata": {},
     "output_type": "execute_result"
    }
   ],
   "source": [
    "df.iloc[:,81].value_counts(normalize=True)"
   ]
  },
  {
   "cell_type": "code",
   "execution_count": 33,
   "metadata": {},
   "outputs": [
    {
     "data": {
      "text/plain": [
       "Neutral              0.328963\n",
       "Disagree             0.263409\n",
       "Agree                0.241955\n",
       "Strongly Disagree    0.100119\n",
       "Strongly Agree       0.065554\n",
       "Name: (Unnamed: 81_level_0, It’s important to me that the records I buy are limited/exclusive.), dtype: float64"
      ]
     },
     "execution_count": 33,
     "metadata": {},
     "output_type": "execute_result"
    }
   ],
   "source": [
    "df_noobs.iloc[:,81].value_counts(normalize=True)"
   ]
  },
  {
   "cell_type": "code",
   "execution_count": 34,
   "metadata": {},
   "outputs": [
    {
     "data": {
      "text/plain": [
       "I’m cool with it as long as I vibe with the music                                    0.422374\n",
       "I’d be excited to get anything free!                                                 0.398006\n",
       "It has to be worthy of my collection / on my shelves                                 0.149714\n",
       "I don’t want anything that I didn’t choose to receive, even if I’d like the music    0.029906\n",
       "Name: (How would you feel if we sent you a free vinyl record sponsored by a brand?, Response), dtype: float64"
      ]
     },
     "execution_count": 34,
     "metadata": {},
     "output_type": "execute_result"
    }
   ],
   "source": [
    "df.iloc[:,107].value_counts(normalize=True)"
   ]
  },
  {
   "cell_type": "code",
   "execution_count": 35,
   "metadata": {},
   "outputs": [
    {
     "data": {
      "text/plain": [
       "I’d be excited to get anything free!                                                 0.438053\n",
       "I’m cool with it as long as I vibe with the music                                    0.414665\n",
       "It has to be worthy of my collection / on my shelves                                 0.117573\n",
       "I don’t want anything that I didn’t choose to receive, even if I’d like the music    0.029709\n",
       "Name: (How would you feel if we sent you a free vinyl record sponsored by a brand?, Response), dtype: float64"
      ]
     },
     "execution_count": 35,
     "metadata": {},
     "output_type": "execute_result"
    }
   ],
   "source": [
    "df_noobs.iloc[:,107].value_counts(normalize=True)"
   ]
  },
  {
   "cell_type": "code",
   "execution_count": null,
   "metadata": {},
   "outputs": [],
   "source": []
  },
  {
   "cell_type": "code",
   "execution_count": 36,
   "metadata": {},
   "outputs": [],
   "source": [
    "df.iloc[:,123].fillna(value='', inplace=True)"
   ]
  },
  {
   "cell_type": "code",
   "execution_count": 37,
   "metadata": {},
   "outputs": [],
   "source": [
    "fav_123_text = list(df.iloc[:,123].to_numpy())"
   ]
  },
  {
   "cell_type": "code",
   "execution_count": null,
   "metadata": {},
   "outputs": [],
   "source": []
  },
  {
   "cell_type": "code",
   "execution_count": 38,
   "metadata": {},
   "outputs": [],
   "source": [
    "my_stop_words = text.ENGLISH_STOP_WORDS.union('vmp',\n",
    "                                              'really',\n",
    "                                              'like')"
   ]
  },
  {
   "cell_type": "code",
   "execution_count": 39,
   "metadata": {},
   "outputs": [
    {
     "data": {
      "text/plain": [
       "CountVectorizer(analyzer='word', binary=False, decode_error='strict',\n",
       "                dtype=<class 'numpy.int64'>, encoding='utf-8', input='content',\n",
       "                lowercase=True, max_df=1.0, max_features=50, min_df=1,\n",
       "                ngram_range=(0, 5), preprocessor=None, stop_words='english',\n",
       "                strip_accents=None, token_pattern='(?u)\\\\b\\\\w\\\\w+\\\\b',\n",
       "                tokenizer=None, vocabulary=None)"
      ]
     },
     "execution_count": 39,
     "metadata": {},
     "output_type": "execute_result"
    }
   ],
   "source": [
    "fav_123_vect = CountVectorizer(lowercase=True,\n",
    "                               tokenizer=None,\n",
    "                               stop_words='english',\n",
    "                               ngram_range=(0,5),\n",
    "                               max_features=50)\n",
    "fav_123_vect.fit(fav_123_text)"
   ]
  },
  {
   "cell_type": "code",
   "execution_count": 40,
   "metadata": {},
   "outputs": [],
   "source": [
    "# fav_123_vect.get_feature_names()"
   ]
  },
  {
   "cell_type": "markdown",
   "metadata": {},
   "source": [
    "## sklearn LDA"
   ]
  },
  {
   "cell_type": "code",
   "execution_count": 41,
   "metadata": {},
   "outputs": [],
   "source": [
    "def display_topics(model, feature_names, num_top_words):\n",
    "    for topic_idx, topic in enumerate(model.components_):\n",
    "        print(f\"Topic {topic_idx}:\")\n",
    "        print(\", \".join([feature_names[i]\n",
    "                        for i in topic.argsort()[:-num_top_words - 1:-1]]))\n",
    "\n",
    "def sklearn_lda(col_num, data_frame, num_topics=5):\n",
    "    data_frame.iloc[:,col_num].fillna(value='noresponsegiven', inplace=True)\n",
    "    col_text = list(data_frame.iloc[:,col_num].to_numpy())\n",
    "    \n",
    "    my_stop_words = text.ENGLISH_STOP_WORDS.union('vmp',\n",
    "                                              'really',\n",
    "                                              'like',\n",
    "                                              'noresponsegiven')\n",
    "\n",
    "    vect = CountVectorizer(lowercase=True,\n",
    "                           tokenizer=None,\n",
    "                           stop_words=my_stop_words,\n",
    "                           ngram_range=(0,5),\n",
    "                           max_features=1000)\n",
    "    vect.fit(col_text)\n",
    "    trans_text = vect.fit_transform(col_text)\n",
    "    feature_names = vect.get_feature_names()\n",
    "    lda = LatentDirichletAllocation(n_components=num_topics,\n",
    "                                    max_iter=10,\n",
    "                                    learning_method='online',\n",
    "                                    random_state=42,\n",
    "                                    n_jobs=-1)\n",
    "    lda.fit(trans_text)\n",
    "    num_top_words = 10\n",
    "    print(f\"Column {col_num} - Label: {data_frame.columns.to_numpy()[col_num]}\\n\")\n",
    "    print(f\"LDA Topic Analysis with {num_topics} topics:\\n\")\n",
    "    display_topics(lda, feature_names, num_top_words)"
   ]
  },
  {
   "cell_type": "code",
   "execution_count": 42,
   "metadata": {},
   "outputs": [],
   "source": [
    "# column_lda(123, df)"
   ]
  },
  {
   "cell_type": "code",
   "execution_count": 43,
   "metadata": {},
   "outputs": [],
   "source": [
    "# column_lda(123, df_noobs)"
   ]
  },
  {
   "cell_type": "code",
   "execution_count": 44,
   "metadata": {},
   "outputs": [],
   "source": [
    "# sklearn_lda(124, df)"
   ]
  },
  {
   "cell_type": "code",
   "execution_count": 45,
   "metadata": {},
   "outputs": [],
   "source": [
    "# sklearn_lda(124, df_noobs)"
   ]
  },
  {
   "cell_type": "code",
   "execution_count": 46,
   "metadata": {},
   "outputs": [],
   "source": [
    "# column_lda(94, df)"
   ]
  },
  {
   "cell_type": "code",
   "execution_count": 47,
   "metadata": {},
   "outputs": [],
   "source": [
    "# column_lda(94, df_noobs)"
   ]
  },
  {
   "cell_type": "code",
   "execution_count": 48,
   "metadata": {},
   "outputs": [],
   "source": [
    "# column_lda(95, df)"
   ]
  },
  {
   "cell_type": "code",
   "execution_count": 49,
   "metadata": {},
   "outputs": [],
   "source": [
    "# column_lda(95, df_noobs)"
   ]
  },
  {
   "cell_type": "code",
   "execution_count": 50,
   "metadata": {},
   "outputs": [],
   "source": [
    "# Most played\n",
    "# df.iloc[:,97].value_counts()"
   ]
  },
  {
   "cell_type": "code",
   "execution_count": 51,
   "metadata": {},
   "outputs": [],
   "source": [
    "# Least played\n",
    "# df.iloc[:,98].value_counts()"
   ]
  },
  {
   "cell_type": "code",
   "execution_count": 52,
   "metadata": {},
   "outputs": [],
   "source": [
    "# column_lda(35, df, num_topics=5)"
   ]
  },
  {
   "cell_type": "code",
   "execution_count": 53,
   "metadata": {},
   "outputs": [],
   "source": [
    "# column_lda(35, df_noobs, num_topics=5)"
   ]
  },
  {
   "cell_type": "code",
   "execution_count": 54,
   "metadata": {},
   "outputs": [],
   "source": [
    "# column_lda(83, df, num_topics=5)"
   ]
  },
  {
   "cell_type": "code",
   "execution_count": 55,
   "metadata": {},
   "outputs": [],
   "source": [
    "# column_lda(83, df_noobs, num_topics=5)"
   ]
  },
  {
   "cell_type": "code",
   "execution_count": 56,
   "metadata": {},
   "outputs": [],
   "source": [
    "# column_lda(436, df, num_topics=5)"
   ]
  },
  {
   "cell_type": "code",
   "execution_count": 57,
   "metadata": {},
   "outputs": [],
   "source": [
    "# column_lda(436, df_noobs, num_topics=5)"
   ]
  },
  {
   "cell_type": "code",
   "execution_count": 58,
   "metadata": {},
   "outputs": [],
   "source": [
    "# column_lda(452, df, num_topics=5)"
   ]
  },
  {
   "cell_type": "code",
   "execution_count": 59,
   "metadata": {},
   "outputs": [],
   "source": [
    "# column_lda(452, df_noobs, num_topics=5)"
   ]
  },
  {
   "cell_type": "code",
   "execution_count": 60,
   "metadata": {},
   "outputs": [],
   "source": [
    "# column_lda(453, df, num_topics=5)"
   ]
  },
  {
   "cell_type": "code",
   "execution_count": 61,
   "metadata": {},
   "outputs": [],
   "source": [
    "# column_lda(453, df_noobs, num_topics=5)"
   ]
  },
  {
   "cell_type": "markdown",
   "metadata": {},
   "source": [
    "## Standard gensim LDA\n",
    "https://www.machinelearningplus.com/nlp/topic-modeling-gensim-python/"
   ]
  },
  {
   "cell_type": "code",
   "execution_count": 62,
   "metadata": {},
   "outputs": [],
   "source": [
    "import nltk\n",
    "from nltk.corpus import stopwords\n",
    "# nltk.download('stopwords')\n",
    "\n",
    "# import re\n",
    "import numpy as np\n",
    "import pandas as pd\n",
    "from pprint import pprint\n",
    "\n",
    "# Gensim\n",
    "import gensim\n",
    "import gensim.corpora as corpora\n",
    "from gensim.utils import simple_preprocess\n",
    "from gensim.models import CoherenceModel\n",
    "from gensim.models.wrappers import LdaMallet\n",
    "\n",
    "# spacy for lemmatization\n",
    "import spacy\n",
    "\n",
    "# Plotting tools\n",
    "import pyLDAvis\n",
    "import pyLDAvis.gensim  # don't skip this\n",
    "import matplotlib.pyplot as plt\n",
    "\n",
    "import warnings\n",
    "warnings.filterwarnings(\"ignore\",category=DeprecationWarning)"
   ]
  },
  {
   "cell_type": "code",
   "execution_count": 63,
   "metadata": {},
   "outputs": [],
   "source": [
    "# gensim.utils.simple_preprocess(doc, deacc=False, min_len=2, max_len=15)\n",
    "# Convert a document into a list of tokens.\n",
    "# This lowercases, tokenizes, de-accents (optional).\n",
    "# – the output are final tokens = unicode strings, that won’t be processed any further.\n",
    "\n",
    "def sentences_to_words(sentences):\n",
    "    for sentence in sentences:\n",
    "        yield(gensim.utils.simple_preprocess(str(sentence)))\n",
    "\n",
    "\n",
    "def make_bigrams(texts):\n",
    "    \n",
    "    # Build bigram model - higher threshold = fewer phrases\n",
    "    bigram = gensim.models.Phrases(texts, min_count=5, threshold=25)\n",
    "    \n",
    "    # Faster way to get a sentence clubbed as a trigram/bigram\n",
    "    bigram_model = gensim.models.phrases.Phraser(bigram)\n",
    "    \n",
    "    return [bigram_model[doc] for doc in texts]\n",
    "\n",
    "\n",
    "def make_trigrams(texts):\n",
    "\n",
    "    # Build trigram model - higher threshold = fewer phrases\n",
    "    trigram = gensim.models.Phrases(bigram[texts], threshold=20)  \n",
    "        \n",
    "    # Faster way to get a sentence clubbed as a trigram/bigram\n",
    "    trigram_mod = gensim.models.phrases.Phraser(trigram)\n",
    "\n",
    "    return [trigram_mod[bigram_mod[doc]] for doc in texts]\n",
    "\n",
    "\n",
    "# Define functions for stopwords, bigrams, trigrams and lemmatization\n",
    "def remove_stopwords(texts):\n",
    "    return [[word for word in simple_preprocess(str(doc))\n",
    "             if word not in stop_words] for doc in texts]\n",
    "\n",
    "def lemmatization(texts, allowed_postags=['NOUN', 'ADJ', 'VERB', 'ADV']):\n",
    "    \"\"\"https://spacy.io/api/annotation\"\"\"\n",
    "    # Initialize spacy 'en' model, keeping only tagger component (for efficiency)\n",
    "    nlp = spacy.load('en', disable=['parser', 'ner'])\n",
    "    texts_out = []\n",
    "    for sent in texts:\n",
    "        doc = nlp(\" \".join(sent)) \n",
    "        texts_out.append([token.lemma_ for token in doc\n",
    "                          if token.pos_ in allowed_postags])\n",
    "    return texts_out\n",
    "\n",
    "# Compute Perplexity\n",
    "def perplexity(model, corpus):\n",
    "    # a measure of how good the model is. lower the better.\n",
    "    perplexity = model.log_perplexity(corpus)\n",
    "    return perplexity\n",
    "  \n",
    "# Compute Coherence Score\n",
    "def coherence_score(model, lemmatized_text, dictionary):\n",
    "    coherence_model = CoherenceModel(model=model,\n",
    "                                     texts=lemmatized_text,\n",
    "                                     dictionary=dictionary,\n",
    "                                     coherence='c_v')\n",
    "    coherence = coherence_model.get_coherence()\n",
    "    return coherence\n",
    "\n",
    "# NLTK Stop words\n",
    "stop_words = stopwords.words('english')\n",
    "stop_words.extend(['noresponsegiven', 'vmp'])"
   ]
  },
  {
   "cell_type": "code",
   "execution_count": 64,
   "metadata": {},
   "outputs": [],
   "source": [
    "def gensim_standard_LDA(col_num, data_frame, num_topics=5, num_words=20):\n",
    "    data_frame.iloc[:,col_num].fillna(value='noresponsegiven', inplace=True)\n",
    "    \n",
    "    corpus_raw = list(data_frame.iloc[:,col_num].to_numpy())\n",
    "    \n",
    "    gensim_words = list(sentences_to_words(corpus_raw))\n",
    "    \n",
    "    # Form Bigrams & Trigrams\n",
    "    gensim_words_bigrams = make_bigrams(gensim_words)\n",
    "    gensim_words_trigrams = make_trigrams(gensim_words_bigrams)\n",
    "\n",
    "    # Remove Stop Words\n",
    "    gensim_words_nostops = remove_stopwords(gensim_words_trigrams)\n",
    "\n",
    "    # Do lemmatization keeping only noun, adj, vb, adv\n",
    "    gensim_words_lemmatized = lemmatization(gensim_words_trigrams,\n",
    "                                    allowed_postags=['NOUN', 'ADJ', 'VERB', 'ADV'])\n",
    "    \n",
    "    # Create Dictionary\n",
    "    id2word = corpora.Dictionary(gensim_words_lemmatized)\n",
    "\n",
    "    # Create Corpus\n",
    "    texts = gensim_words_lemmatized\n",
    "\n",
    "    # Term Document Frequency\n",
    "    corpus = [id2word.doc2bow(text) for text in texts]\n",
    "    \n",
    "    # Build LDA model\n",
    "    gensim_lda_model = gensim.models.ldamodel.LdaModel(corpus=corpus,\n",
    "                                                       id2word=id2word,\n",
    "                                                       num_topics=num_topics, \n",
    "                                                       random_state=42,\n",
    "                                                       passes=10,\n",
    "                                                       alpha='auto',\n",
    "                                                       per_word_topics=True)\n",
    "\n",
    "    print(f\"Column {col_num} - Label: {data_frame.columns.to_numpy()[col_num]}\\n\")\n",
    "    print(f\"Gensim standard LDA Topic Analysis with {num_topics} topics:\\n\")\n",
    "    \n",
    "    # Print topics and words\n",
    "    x = gensim_lda_model.show_topics(num_topics=num_topics,\n",
    "                                     num_words=num_words,\n",
    "                                     formatted=False)\n",
    "    topics_words = [(tp[0], [wd[0] for wd in tp[1]]) for tp in x]\n",
    "\n",
    "    for topic, words in topics_words:\n",
    "        print(f\"Topic {str(topic)}:\\n{str(words)}\\n\")\n",
    "    \n",
    "    print(f\"Perplexity: {perplexity(gensim_lda_model, corpus)}\")\n",
    "    print(f\"Coherence: {coherence_score(gensim_lda_model, gensim_words_lemmatized, id2word)}\")"
   ]
  },
  {
   "cell_type": "code",
   "execution_count": 65,
   "metadata": {},
   "outputs": [],
   "source": [
    "# gensim_standard_LDA(124, df, num_topics=5, num_words=20)"
   ]
  },
  {
   "cell_type": "code",
   "execution_count": 66,
   "metadata": {},
   "outputs": [],
   "source": [
    "# gensim_standard_LDA(124, df_noobs, num_topics=5, num_words=20)"
   ]
  },
  {
   "cell_type": "code",
   "execution_count": 67,
   "metadata": {},
   "outputs": [],
   "source": [
    "# Visualize the topics\n",
    "# pyLDAvis.enable_notebook()\n",
    "# vis = pyLDAvis.gensim.prepare(gensim_lda_model, corpus, id2word)\n",
    "# vis"
   ]
  },
  {
   "cell_type": "markdown",
   "metadata": {},
   "source": [
    "## Gensim LDA via MALLET\n",
    "McCallum, Andrew Kachites.  \"MALLET: A Machine Learning for Language Toolkit.\"\n",
    "    http://mallet.cs.umass.edu. 2002."
   ]
  },
  {
   "cell_type": "code",
   "execution_count": 68,
   "metadata": {},
   "outputs": [],
   "source": [
    "mallet_path = \"/Users/timothymiller/Galvanize/capstone_2_3/mallet-2.0.8/bin/mallet\"\n"
   ]
  },
  {
   "cell_type": "code",
   "execution_count": 69,
   "metadata": {},
   "outputs": [],
   "source": [
    "def gensim_mallet_LDA(col_num, data_frame, num_topics=5, num_words=20):\n",
    "    data_frame.iloc[:,col_num].fillna(value='noresponsegiven', inplace=True)\n",
    "\n",
    "    corpus_raw = list(data_frame.iloc[:,col_num].to_numpy())\n",
    "    \n",
    "    gensim_words = list(sentences_to_words(corpus_raw))\n",
    "\n",
    "    # Form Bigrams & Trigrams\n",
    "    gensim_words_bigrams = make_bigrams(gensim_words)\n",
    "    gensim_words_trigrams = make_trigrams(gensim_words_bigrams)\n",
    "\n",
    "    # Remove Stop Words\n",
    "    gensim_words_nostops = remove_stopwords(gensim_words_trigrams)\n",
    "\n",
    "    # Do lemmatization keeping only noun, adj, vb, adv\n",
    "    gensim_words_lemmatized = lemmatization(gensim_words_trigrams,\n",
    "                                    allowed_postags=['NOUN', 'ADJ', 'VERB', 'ADV'])\n",
    "    \n",
    "    # Create Dictionary\n",
    "    id2word = corpora.Dictionary(gensim_words_lemmatized)\n",
    "\n",
    "    # Create Corpus\n",
    "    texts = gensim_words_lemmatized\n",
    "\n",
    "    # Term Document Frequency\n",
    "    corpus = [id2word.doc2bow(text) for text in texts]\n",
    "\n",
    "    #### EVERYTHING ABOVE HERE IS SHARED WITH STD AND MALLET\n",
    "    \n",
    "    # Build LDA model\n",
    "    mallet_lda_model = LdaMallet(mallet_path,\n",
    "                      corpus=corpus,\n",
    "                      num_topics=num_topics,\n",
    "                      id2word=id2word)\n",
    "\n",
    "    print(f\"Column {col_num} - Label: {data_frame.columns.to_numpy()[col_num]}\\n\")\n",
    "    print(f\"Gensim MALLET LDA Topic Analysis with {num_topics} topics:\\n\")\n",
    "    \n",
    "    # Print topics and words\n",
    "    x = mallet_lda_model.show_topics(num_topics=num_topics,\n",
    "                                     num_words=num_words,\n",
    "                                     formatted=False)\n",
    "    topics_words = [(tp[0], [wd[0] for wd in tp[1]]) for tp in x]\n",
    "\n",
    "    for topic, words in topics_words:\n",
    "        print(f\"Topic {str(topic)}:\\n{str(words)}\\n\")\n",
    "        \n",
    "    print(f\"Coherence: {coherence_score(mallet_lda_model, gensim_words_lemmatized, id2word)}\")\n",
    "    "
   ]
  },
  {
   "cell_type": "code",
   "execution_count": 70,
   "metadata": {},
   "outputs": [
    {
     "ename": "NameError",
     "evalue": "name 'bigram' is not defined",
     "output_type": "error",
     "traceback": [
      "\u001b[0;31m---------------------------------------------------------------------------\u001b[0m",
      "\u001b[0;31mNameError\u001b[0m                                 Traceback (most recent call last)",
      "\u001b[0;32m<ipython-input-70-04608c510f86>\u001b[0m in \u001b[0;36m<module>\u001b[0;34m\u001b[0m\n\u001b[0;32m----> 1\u001b[0;31m \u001b[0mgensim_mallet_LDA\u001b[0m\u001b[0;34m(\u001b[0m\u001b[0;36m124\u001b[0m\u001b[0;34m,\u001b[0m \u001b[0mdf\u001b[0m\u001b[0;34m,\u001b[0m \u001b[0mnum_topics\u001b[0m\u001b[0;34m=\u001b[0m\u001b[0;36m5\u001b[0m\u001b[0;34m,\u001b[0m \u001b[0mnum_words\u001b[0m\u001b[0;34m=\u001b[0m\u001b[0;36m20\u001b[0m\u001b[0;34m)\u001b[0m\u001b[0;34m\u001b[0m\u001b[0;34m\u001b[0m\u001b[0m\n\u001b[0m",
      "\u001b[0;32m<ipython-input-69-44f864936907>\u001b[0m in \u001b[0;36mgensim_mallet_LDA\u001b[0;34m(col_num, data_frame, num_topics, num_words)\u001b[0m\n\u001b[1;32m      8\u001b[0m     \u001b[0;31m# Form Bigrams & Trigrams\u001b[0m\u001b[0;34m\u001b[0m\u001b[0;34m\u001b[0m\u001b[0;34m\u001b[0m\u001b[0m\n\u001b[1;32m      9\u001b[0m     \u001b[0mgensim_words_bigrams\u001b[0m \u001b[0;34m=\u001b[0m \u001b[0mmake_bigrams\u001b[0m\u001b[0;34m(\u001b[0m\u001b[0mgensim_words\u001b[0m\u001b[0;34m)\u001b[0m\u001b[0;34m\u001b[0m\u001b[0;34m\u001b[0m\u001b[0m\n\u001b[0;32m---> 10\u001b[0;31m     \u001b[0mgensim_words_trigrams\u001b[0m \u001b[0;34m=\u001b[0m \u001b[0mmake_trigrams\u001b[0m\u001b[0;34m(\u001b[0m\u001b[0mgensim_words_bigrams\u001b[0m\u001b[0;34m)\u001b[0m\u001b[0;34m\u001b[0m\u001b[0;34m\u001b[0m\u001b[0m\n\u001b[0m\u001b[1;32m     11\u001b[0m \u001b[0;34m\u001b[0m\u001b[0m\n\u001b[1;32m     12\u001b[0m     \u001b[0;31m# Remove Stop Words\u001b[0m\u001b[0;34m\u001b[0m\u001b[0;34m\u001b[0m\u001b[0;34m\u001b[0m\u001b[0m\n",
      "\u001b[0;32m<ipython-input-63-7622dca789f4>\u001b[0m in \u001b[0;36mmake_trigrams\u001b[0;34m(texts)\u001b[0m\n\u001b[1;32m     23\u001b[0m \u001b[0;34m\u001b[0m\u001b[0m\n\u001b[1;32m     24\u001b[0m     \u001b[0;31m# Build trigram model - higher threshold = fewer phrases\u001b[0m\u001b[0;34m\u001b[0m\u001b[0;34m\u001b[0m\u001b[0;34m\u001b[0m\u001b[0m\n\u001b[0;32m---> 25\u001b[0;31m     \u001b[0mtrigram\u001b[0m \u001b[0;34m=\u001b[0m \u001b[0mgensim\u001b[0m\u001b[0;34m.\u001b[0m\u001b[0mmodels\u001b[0m\u001b[0;34m.\u001b[0m\u001b[0mPhrases\u001b[0m\u001b[0;34m(\u001b[0m\u001b[0mbigram\u001b[0m\u001b[0;34m[\u001b[0m\u001b[0mtexts\u001b[0m\u001b[0;34m]\u001b[0m\u001b[0;34m,\u001b[0m \u001b[0mthreshold\u001b[0m\u001b[0;34m=\u001b[0m\u001b[0;36m20\u001b[0m\u001b[0;34m)\u001b[0m\u001b[0;34m\u001b[0m\u001b[0;34m\u001b[0m\u001b[0m\n\u001b[0m\u001b[1;32m     26\u001b[0m \u001b[0;34m\u001b[0m\u001b[0m\n\u001b[1;32m     27\u001b[0m     \u001b[0;31m# Faster way to get a sentence clubbed as a trigram/bigram\u001b[0m\u001b[0;34m\u001b[0m\u001b[0;34m\u001b[0m\u001b[0;34m\u001b[0m\u001b[0m\n",
      "\u001b[0;31mNameError\u001b[0m: name 'bigram' is not defined"
     ]
    }
   ],
   "source": [
    "gensim_mallet_LDA(124, df, num_topics=5, num_words=20)"
   ]
  },
  {
   "cell_type": "code",
   "execution_count": null,
   "metadata": {},
   "outputs": [],
   "source": [
    "def model_search_coherence_values(dictionary, corpus, texts, limit, start=2, step=3):\n",
    "    \"\"\"\n",
    "    Compute c_v coherence for various number of topics\n",
    "\n",
    "    Parameters:\n",
    "    ----------\n",
    "    dictionary : Gensim dictionary\n",
    "    corpus : Gensim corpus\n",
    "    texts : List of input texts\n",
    "    limit : Max num of topics\n",
    "\n",
    "    Returns:\n",
    "    -------\n",
    "    model_list : List of LDA topic models\n",
    "    coherence_values : Coherence values corresponding to the LDA model with respective number of topics\n",
    "    \"\"\"\n",
    "    coherence_values = []\n",
    "    model_list = []\n",
    "    for num_topics in range(start, limit, step):\n",
    "        model = gensim.models.wrappers.LdaMallet(mallet_path, corpus=corpus, num_topics=num_topics, id2word=id2word)\n",
    "        model_list.append(model)\n",
    "        coherencemodel = CoherenceModel(model=model, texts=texts, dictionary=dictionary, coherence='c_v')\n",
    "        coherence_values.append(coherencemodel.get_coherence())\n",
    "\n",
    "    return model_list, coherence_values"
   ]
  },
  {
   "cell_type": "code",
   "execution_count": null,
   "metadata": {},
   "outputs": [],
   "source": [
    "# Grid search LDA models for optimal num_topics\n",
    "# Can take a long time to run.\n",
    "# model_list, coherence_values = compute_coherence_values(dictionary=id2word,\n",
    "#                                                         corpus=corpus,\n",
    "#                                                         texts=gensim_words_lemmatized,\n",
    "#                                                         start=3,\n",
    "#                                                         limit=10,\n",
    "#                                                         step=1)"
   ]
  },
  {
   "cell_type": "code",
   "execution_count": null,
   "metadata": {},
   "outputs": [],
   "source": [
    "# Show graph\n",
    "# limit=10; start=3; step=1;\n",
    "# x = range(start, limit, step)\n",
    "# plt.plot(x, coherence_values)\n",
    "# plt.xlabel(\"Num Topics\")\n",
    "# plt.ylabel(\"Coherence score\")\n",
    "# plt.legend((\"coherence_values\"), loc='best')\n",
    "# plt.show()\n",
    "\n",
    "# Using 5 topics moving forward based on grid search."
   ]
  },
  {
   "cell_type": "code",
   "execution_count": null,
   "metadata": {},
   "outputs": [],
   "source": []
  }
 ],
 "metadata": {
  "kernelspec": {
   "display_name": "Python 3",
   "language": "python",
   "name": "python3"
  },
  "language_info": {
   "codemirror_mode": {
    "name": "ipython",
    "version": 3
   },
   "file_extension": ".py",
   "mimetype": "text/x-python",
   "name": "python",
   "nbconvert_exporter": "python",
   "pygments_lexer": "ipython3",
   "version": "3.7.3"
  }
 },
 "nbformat": 4,
 "nbformat_minor": 2
}
